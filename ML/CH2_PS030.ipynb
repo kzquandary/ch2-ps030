{
  "nbformat": 4,
  "nbformat_minor": 0,
  "metadata": {
    "colab": {
      "provenance": [],
      "gpuType": "T4"
    },
    "kernelspec": {
      "name": "python3",
      "display_name": "Python 3"
    },
    "language_info": {
      "name": "python"
    },
    "accelerator": "GPU"
  },
  "cells": [
    {
      "cell_type": "markdown",
      "source": [
        "# Sentimen Analysis From Reviews Users to Mitra\n",
        "\n",
        "Tim Machine Learning (ML) membangun model Natural Language Processing (NLP) untuk memprediksi sentimen dari ulasan pelanggan. Hasil keseluruhan sentimen tersebut akan ditampilkan di dashboard mitra, sehingga mitra dapat memantau presentase kepuasan pelanggan. Tujuannya adalah agar mitra dapat mengevaluasi produknya berdasarkan data sentimen pelanggan yang terdeteksi oleh model NLP tersebut."
      ],
      "metadata": {
        "id": "qioUVNlcV0TW"
      }
    },
    {
      "cell_type": "markdown",
      "source": [
        "## Import Library"
      ],
      "metadata": {
        "id": "u9571LqTWSYK"
      }
    },
    {
      "cell_type": "code",
      "source": [
        "import os\n",
        "import numpy as np\n",
        "import pandas as pd\n",
        "import tensorflow as tf\n",
        "import seaborn as sns\n",
        "import matplotlib.pyplot as plt\n",
        "plt.style.use('ggplot')\n",
        "import re\n",
        "import nltk\n",
        "import string\n",
        "import json\n",
        "from textblob import TextBlob\n",
        "nltk.download('punkt')\n",
        "from nltk.corpus import stopwords\n",
        "from mlxtend.plotting import plot_confusion_matrix\n",
        "from sklearn.model_selection import train_test_split\n",
        "from tensorflow.keras.preprocessing.text import Tokenizer\n",
        "from tensorflow.keras.preprocessing.sequence import pad_sequences\n",
        "from sklearn.metrics import confusion_matrix, precision_score, recall_score, accuracy_score\n",
        "from google.colab import files"
      ],
      "metadata": {
        "id": "XC-k8gWxWivc",
        "colab": {
          "base_uri": "https://localhost:8080/"
        },
        "outputId": "069ba711-36a9-42f1-d2de-4ec97c460c10"
      },
      "execution_count": null,
      "outputs": [
        {
          "output_type": "stream",
          "name": "stderr",
          "text": [
            "[nltk_data] Downloading package punkt to /root/nltk_data...\n",
            "[nltk_data]   Package punkt is already up-to-date!\n"
          ]
        }
      ]
    },
    {
      "cell_type": "markdown",
      "source": [
        "## Import Datasets"
      ],
      "metadata": {
        "id": "bfVY53ExWboK"
      }
    },
    {
      "cell_type": "code",
      "source": [
        "!git clone https://github.com/kzquandary/ch2-ps030.git"
      ],
      "metadata": {
        "colab": {
          "base_uri": "https://localhost:8080/"
        },
        "id": "lZf1WXs6E3PQ",
        "outputId": "6fb6598e-22d3-4cf9-e31f-73816c405daa"
      },
      "execution_count": null,
      "outputs": [
        {
          "output_type": "stream",
          "name": "stdout",
          "text": [
            "Cloning into 'ch2-ps030'...\n",
            "remote: Enumerating objects: 488, done.\u001b[K\n",
            "remote: Counting objects: 100% (91/91), done.\u001b[K\n",
            "remote: Compressing objects: 100% (69/69), done.\u001b[K\n",
            "remote: Total 488 (delta 30), reused 58 (delta 22), pack-reused 397\u001b[K\n",
            "Receiving objects: 100% (488/488), 6.39 MiB | 24.79 MiB/s, done.\n",
            "Resolving deltas: 100% (105/105), done.\n"
          ]
        }
      ]
    },
    {
      "cell_type": "code",
      "source": [
        "datasets = '/content/ch2-ps030/ML/datasets - reviews.csv'\n",
        "df = pd.read_csv(datasets)\n",
        "df"
      ],
      "metadata": {
        "id": "RRN5bz2ZWW_F",
        "colab": {
          "base_uri": "https://localhost:8080/",
          "height": 424
        },
        "outputId": "9103d6ca-326a-4920-bea5-a60177ef4d88"
      },
      "execution_count": null,
      "outputs": [
        {
          "output_type": "execute_result",
          "data": {
            "text/plain": [
              "                                                ulasan  sentimen  rating\n",
              "0    Saya baru mencoba minuman dari gerai ini. Minu...    netral     3.0\n",
              "1    Makanan ini sangat mengecewakan. Rasanya terla...  negative     2.0\n",
              "2    memiliki cita rasa yang unik. Perpaduan antara...  positive     5.0\n",
              "3    Saya sangat merekomendasikan makanan ini kepad...  positive     5.0\n",
              "4    Pelayanan di warung ini cukup ramah dan efisie...    netral     3.0\n",
              "..                                                 ...       ...     ...\n",
              "670  Saya datang kesini coba menu ayam goreng telur...    netral     3.0\n",
              "671  Makanan cukup enak, harga ya lumayan.. Tapi pe...    netral     3.0\n",
              "672  Rasa makanan gak seenak dulu, atau mungkin kar...    netral     3.0\n",
              "673  Tidak terlalu spesial, terutama ikan bakarnya....    netral     3.0\n",
              "674  Makanan enak, sambel gratisnya mantab, sayang ...    netral     3.0\n",
              "\n",
              "[675 rows x 3 columns]"
            ],
            "text/html": [
              "\n",
              "  <div id=\"df-9340779f-4f68-4f98-8735-7dbf33221a0e\" class=\"colab-df-container\">\n",
              "    <div>\n",
              "<style scoped>\n",
              "    .dataframe tbody tr th:only-of-type {\n",
              "        vertical-align: middle;\n",
              "    }\n",
              "\n",
              "    .dataframe tbody tr th {\n",
              "        vertical-align: top;\n",
              "    }\n",
              "\n",
              "    .dataframe thead th {\n",
              "        text-align: right;\n",
              "    }\n",
              "</style>\n",
              "<table border=\"1\" class=\"dataframe\">\n",
              "  <thead>\n",
              "    <tr style=\"text-align: right;\">\n",
              "      <th></th>\n",
              "      <th>ulasan</th>\n",
              "      <th>sentimen</th>\n",
              "      <th>rating</th>\n",
              "    </tr>\n",
              "  </thead>\n",
              "  <tbody>\n",
              "    <tr>\n",
              "      <th>0</th>\n",
              "      <td>Saya baru mencoba minuman dari gerai ini. Minu...</td>\n",
              "      <td>netral</td>\n",
              "      <td>3.0</td>\n",
              "    </tr>\n",
              "    <tr>\n",
              "      <th>1</th>\n",
              "      <td>Makanan ini sangat mengecewakan. Rasanya terla...</td>\n",
              "      <td>negative</td>\n",
              "      <td>2.0</td>\n",
              "    </tr>\n",
              "    <tr>\n",
              "      <th>2</th>\n",
              "      <td>memiliki cita rasa yang unik. Perpaduan antara...</td>\n",
              "      <td>positive</td>\n",
              "      <td>5.0</td>\n",
              "    </tr>\n",
              "    <tr>\n",
              "      <th>3</th>\n",
              "      <td>Saya sangat merekomendasikan makanan ini kepad...</td>\n",
              "      <td>positive</td>\n",
              "      <td>5.0</td>\n",
              "    </tr>\n",
              "    <tr>\n",
              "      <th>4</th>\n",
              "      <td>Pelayanan di warung ini cukup ramah dan efisie...</td>\n",
              "      <td>netral</td>\n",
              "      <td>3.0</td>\n",
              "    </tr>\n",
              "    <tr>\n",
              "      <th>...</th>\n",
              "      <td>...</td>\n",
              "      <td>...</td>\n",
              "      <td>...</td>\n",
              "    </tr>\n",
              "    <tr>\n",
              "      <th>670</th>\n",
              "      <td>Saya datang kesini coba menu ayam goreng telur...</td>\n",
              "      <td>netral</td>\n",
              "      <td>3.0</td>\n",
              "    </tr>\n",
              "    <tr>\n",
              "      <th>671</th>\n",
              "      <td>Makanan cukup enak, harga ya lumayan.. Tapi pe...</td>\n",
              "      <td>netral</td>\n",
              "      <td>3.0</td>\n",
              "    </tr>\n",
              "    <tr>\n",
              "      <th>672</th>\n",
              "      <td>Rasa makanan gak seenak dulu, atau mungkin kar...</td>\n",
              "      <td>netral</td>\n",
              "      <td>3.0</td>\n",
              "    </tr>\n",
              "    <tr>\n",
              "      <th>673</th>\n",
              "      <td>Tidak terlalu spesial, terutama ikan bakarnya....</td>\n",
              "      <td>netral</td>\n",
              "      <td>3.0</td>\n",
              "    </tr>\n",
              "    <tr>\n",
              "      <th>674</th>\n",
              "      <td>Makanan enak, sambel gratisnya mantab, sayang ...</td>\n",
              "      <td>netral</td>\n",
              "      <td>3.0</td>\n",
              "    </tr>\n",
              "  </tbody>\n",
              "</table>\n",
              "<p>675 rows × 3 columns</p>\n",
              "</div>\n",
              "    <div class=\"colab-df-buttons\">\n",
              "\n",
              "  <div class=\"colab-df-container\">\n",
              "    <button class=\"colab-df-convert\" onclick=\"convertToInteractive('df-9340779f-4f68-4f98-8735-7dbf33221a0e')\"\n",
              "            title=\"Convert this dataframe to an interactive table.\"\n",
              "            style=\"display:none;\">\n",
              "\n",
              "  <svg xmlns=\"http://www.w3.org/2000/svg\" height=\"24px\" viewBox=\"0 -960 960 960\">\n",
              "    <path d=\"M120-120v-720h720v720H120Zm60-500h600v-160H180v160Zm220 220h160v-160H400v160Zm0 220h160v-160H400v160ZM180-400h160v-160H180v160Zm440 0h160v-160H620v160ZM180-180h160v-160H180v160Zm440 0h160v-160H620v160Z\"/>\n",
              "  </svg>\n",
              "    </button>\n",
              "\n",
              "  <style>\n",
              "    .colab-df-container {\n",
              "      display:flex;\n",
              "      gap: 12px;\n",
              "    }\n",
              "\n",
              "    .colab-df-convert {\n",
              "      background-color: #E8F0FE;\n",
              "      border: none;\n",
              "      border-radius: 50%;\n",
              "      cursor: pointer;\n",
              "      display: none;\n",
              "      fill: #1967D2;\n",
              "      height: 32px;\n",
              "      padding: 0 0 0 0;\n",
              "      width: 32px;\n",
              "    }\n",
              "\n",
              "    .colab-df-convert:hover {\n",
              "      background-color: #E2EBFA;\n",
              "      box-shadow: 0px 1px 2px rgba(60, 64, 67, 0.3), 0px 1px 3px 1px rgba(60, 64, 67, 0.15);\n",
              "      fill: #174EA6;\n",
              "    }\n",
              "\n",
              "    .colab-df-buttons div {\n",
              "      margin-bottom: 4px;\n",
              "    }\n",
              "\n",
              "    [theme=dark] .colab-df-convert {\n",
              "      background-color: #3B4455;\n",
              "      fill: #D2E3FC;\n",
              "    }\n",
              "\n",
              "    [theme=dark] .colab-df-convert:hover {\n",
              "      background-color: #434B5C;\n",
              "      box-shadow: 0px 1px 3px 1px rgba(0, 0, 0, 0.15);\n",
              "      filter: drop-shadow(0px 1px 2px rgba(0, 0, 0, 0.3));\n",
              "      fill: #FFFFFF;\n",
              "    }\n",
              "  </style>\n",
              "\n",
              "    <script>\n",
              "      const buttonEl =\n",
              "        document.querySelector('#df-9340779f-4f68-4f98-8735-7dbf33221a0e button.colab-df-convert');\n",
              "      buttonEl.style.display =\n",
              "        google.colab.kernel.accessAllowed ? 'block' : 'none';\n",
              "\n",
              "      async function convertToInteractive(key) {\n",
              "        const element = document.querySelector('#df-9340779f-4f68-4f98-8735-7dbf33221a0e');\n",
              "        const dataTable =\n",
              "          await google.colab.kernel.invokeFunction('convertToInteractive',\n",
              "                                                    [key], {});\n",
              "        if (!dataTable) return;\n",
              "\n",
              "        const docLinkHtml = 'Like what you see? Visit the ' +\n",
              "          '<a target=\"_blank\" href=https://colab.research.google.com/notebooks/data_table.ipynb>data table notebook</a>'\n",
              "          + ' to learn more about interactive tables.';\n",
              "        element.innerHTML = '';\n",
              "        dataTable['output_type'] = 'display_data';\n",
              "        await google.colab.output.renderOutput(dataTable, element);\n",
              "        const docLink = document.createElement('div');\n",
              "        docLink.innerHTML = docLinkHtml;\n",
              "        element.appendChild(docLink);\n",
              "      }\n",
              "    </script>\n",
              "  </div>\n",
              "\n",
              "\n",
              "<div id=\"df-15a9ca4a-a0fd-463d-a993-37ea99816eb4\">\n",
              "  <button class=\"colab-df-quickchart\" onclick=\"quickchart('df-15a9ca4a-a0fd-463d-a993-37ea99816eb4')\"\n",
              "            title=\"Suggest charts\"\n",
              "            style=\"display:none;\">\n",
              "\n",
              "<svg xmlns=\"http://www.w3.org/2000/svg\" height=\"24px\"viewBox=\"0 0 24 24\"\n",
              "     width=\"24px\">\n",
              "    <g>\n",
              "        <path d=\"M19 3H5c-1.1 0-2 .9-2 2v14c0 1.1.9 2 2 2h14c1.1 0 2-.9 2-2V5c0-1.1-.9-2-2-2zM9 17H7v-7h2v7zm4 0h-2V7h2v10zm4 0h-2v-4h2v4z\"/>\n",
              "    </g>\n",
              "</svg>\n",
              "  </button>\n",
              "\n",
              "<style>\n",
              "  .colab-df-quickchart {\n",
              "      --bg-color: #E8F0FE;\n",
              "      --fill-color: #1967D2;\n",
              "      --hover-bg-color: #E2EBFA;\n",
              "      --hover-fill-color: #174EA6;\n",
              "      --disabled-fill-color: #AAA;\n",
              "      --disabled-bg-color: #DDD;\n",
              "  }\n",
              "\n",
              "  [theme=dark] .colab-df-quickchart {\n",
              "      --bg-color: #3B4455;\n",
              "      --fill-color: #D2E3FC;\n",
              "      --hover-bg-color: #434B5C;\n",
              "      --hover-fill-color: #FFFFFF;\n",
              "      --disabled-bg-color: #3B4455;\n",
              "      --disabled-fill-color: #666;\n",
              "  }\n",
              "\n",
              "  .colab-df-quickchart {\n",
              "    background-color: var(--bg-color);\n",
              "    border: none;\n",
              "    border-radius: 50%;\n",
              "    cursor: pointer;\n",
              "    display: none;\n",
              "    fill: var(--fill-color);\n",
              "    height: 32px;\n",
              "    padding: 0;\n",
              "    width: 32px;\n",
              "  }\n",
              "\n",
              "  .colab-df-quickchart:hover {\n",
              "    background-color: var(--hover-bg-color);\n",
              "    box-shadow: 0 1px 2px rgba(60, 64, 67, 0.3), 0 1px 3px 1px rgba(60, 64, 67, 0.15);\n",
              "    fill: var(--button-hover-fill-color);\n",
              "  }\n",
              "\n",
              "  .colab-df-quickchart-complete:disabled,\n",
              "  .colab-df-quickchart-complete:disabled:hover {\n",
              "    background-color: var(--disabled-bg-color);\n",
              "    fill: var(--disabled-fill-color);\n",
              "    box-shadow: none;\n",
              "  }\n",
              "\n",
              "  .colab-df-spinner {\n",
              "    border: 2px solid var(--fill-color);\n",
              "    border-color: transparent;\n",
              "    border-bottom-color: var(--fill-color);\n",
              "    animation:\n",
              "      spin 1s steps(1) infinite;\n",
              "  }\n",
              "\n",
              "  @keyframes spin {\n",
              "    0% {\n",
              "      border-color: transparent;\n",
              "      border-bottom-color: var(--fill-color);\n",
              "      border-left-color: var(--fill-color);\n",
              "    }\n",
              "    20% {\n",
              "      border-color: transparent;\n",
              "      border-left-color: var(--fill-color);\n",
              "      border-top-color: var(--fill-color);\n",
              "    }\n",
              "    30% {\n",
              "      border-color: transparent;\n",
              "      border-left-color: var(--fill-color);\n",
              "      border-top-color: var(--fill-color);\n",
              "      border-right-color: var(--fill-color);\n",
              "    }\n",
              "    40% {\n",
              "      border-color: transparent;\n",
              "      border-right-color: var(--fill-color);\n",
              "      border-top-color: var(--fill-color);\n",
              "    }\n",
              "    60% {\n",
              "      border-color: transparent;\n",
              "      border-right-color: var(--fill-color);\n",
              "    }\n",
              "    80% {\n",
              "      border-color: transparent;\n",
              "      border-right-color: var(--fill-color);\n",
              "      border-bottom-color: var(--fill-color);\n",
              "    }\n",
              "    90% {\n",
              "      border-color: transparent;\n",
              "      border-bottom-color: var(--fill-color);\n",
              "    }\n",
              "  }\n",
              "</style>\n",
              "\n",
              "  <script>\n",
              "    async function quickchart(key) {\n",
              "      const quickchartButtonEl =\n",
              "        document.querySelector('#' + key + ' button');\n",
              "      quickchartButtonEl.disabled = true;  // To prevent multiple clicks.\n",
              "      quickchartButtonEl.classList.add('colab-df-spinner');\n",
              "      try {\n",
              "        const charts = await google.colab.kernel.invokeFunction(\n",
              "            'suggestCharts', [key], {});\n",
              "      } catch (error) {\n",
              "        console.error('Error during call to suggestCharts:', error);\n",
              "      }\n",
              "      quickchartButtonEl.classList.remove('colab-df-spinner');\n",
              "      quickchartButtonEl.classList.add('colab-df-quickchart-complete');\n",
              "    }\n",
              "    (() => {\n",
              "      let quickchartButtonEl =\n",
              "        document.querySelector('#df-15a9ca4a-a0fd-463d-a993-37ea99816eb4 button');\n",
              "      quickchartButtonEl.style.display =\n",
              "        google.colab.kernel.accessAllowed ? 'block' : 'none';\n",
              "    })();\n",
              "  </script>\n",
              "</div>\n",
              "    </div>\n",
              "  </div>\n"
            ]
          },
          "metadata": {},
          "execution_count": 3
        }
      ]
    },
    {
      "cell_type": "markdown",
      "source": [
        "## Cleaning Data"
      ],
      "metadata": {
        "id": "YhJIgfJiWjop"
      }
    },
    {
      "cell_type": "markdown",
      "source": [
        "Pada bagian ini dilakukan pengecekan data yang terdiri dari tipe data dari setiap kolomnya, memeriksa apakah terdapat data yang kosong, dan data yang mengalami duplikasi."
      ],
      "metadata": {
        "id": "hrgKX9MxKMLf"
      }
    },
    {
      "cell_type": "code",
      "source": [
        "#cek class pada data\n",
        "df.info()"
      ],
      "metadata": {
        "id": "T7TLY0eoWptt",
        "colab": {
          "base_uri": "https://localhost:8080/"
        },
        "outputId": "a4a9fbdc-913c-413b-ab2f-b5a25769e2f1"
      },
      "execution_count": null,
      "outputs": [
        {
          "output_type": "stream",
          "name": "stdout",
          "text": [
            "<class 'pandas.core.frame.DataFrame'>\n",
            "RangeIndex: 675 entries, 0 to 674\n",
            "Data columns (total 3 columns):\n",
            " #   Column    Non-Null Count  Dtype  \n",
            "---  ------    --------------  -----  \n",
            " 0   ulasan    675 non-null    object \n",
            " 1   sentimen  675 non-null    object \n",
            " 2   rating    675 non-null    float64\n",
            "dtypes: float64(1), object(2)\n",
            "memory usage: 15.9+ KB\n"
          ]
        }
      ]
    },
    {
      "cell_type": "markdown",
      "source": [
        "Dari data diatas dapat dilihat bahwa jenis data untuk kolom 'ulasan' dan 'sentimen' adalah object atau bisa dikatakan sebuah string, sedangkan kolom rating sudah benar yaitu berupa float dengan tipe float 64 bit. Selanjutnya akan di cek apakah ada data yang kosong (null)"
      ],
      "metadata": {
        "id": "dQIblmHOLAio"
      }
    },
    {
      "cell_type": "code",
      "source": [
        "#cleaning data\n",
        "df.isnull().sum()"
      ],
      "metadata": {
        "colab": {
          "base_uri": "https://localhost:8080/"
        },
        "id": "HI-ZCttWMTld",
        "outputId": "d11ce196-91c6-4097-ad65-5e49fa57add1"
      },
      "execution_count": null,
      "outputs": [
        {
          "output_type": "execute_result",
          "data": {
            "text/plain": [
              "ulasan      0\n",
              "sentimen    0\n",
              "rating      0\n",
              "dtype: int64"
            ]
          },
          "metadata": {},
          "execution_count": 5
        }
      ]
    },
    {
      "cell_type": "markdown",
      "source": [
        "Dapat dilihat bahwa tidak terdapat data yang kosong(null)"
      ],
      "metadata": {
        "id": "uURJdQdzLIAp"
      }
    },
    {
      "cell_type": "code",
      "source": [
        "df.duplicated().sum()"
      ],
      "metadata": {
        "colab": {
          "base_uri": "https://localhost:8080/"
        },
        "id": "wM45_1FtMXa7",
        "outputId": "bb3c238a-2f26-4e27-a324-fb53d7a7cd33"
      },
      "execution_count": null,
      "outputs": [
        {
          "output_type": "execute_result",
          "data": {
            "text/plain": [
              "4"
            ]
          },
          "metadata": {},
          "execution_count": 6
        }
      ]
    },
    {
      "cell_type": "markdown",
      "source": [
        "Kemudian, dilakukan pengecekan apakah datasets terdapat data yang redundan dan dapat dilihat bahwa terdapat 4 data yang mengalami redundansi"
      ],
      "metadata": {
        "id": "dP_l6mIRLOSj"
      }
    },
    {
      "cell_type": "code",
      "source": [
        "#remove duplicate\n",
        "data = df.drop_duplicates()\n",
        "print(data)"
      ],
      "metadata": {
        "colab": {
          "base_uri": "https://localhost:8080/"
        },
        "id": "5h8F9GiZMb-Z",
        "outputId": "c284a95f-4d7c-48a9-9875-12aafb315a00"
      },
      "execution_count": null,
      "outputs": [
        {
          "output_type": "stream",
          "name": "stdout",
          "text": [
            "                                                ulasan  sentimen  rating\n",
            "0    Saya baru mencoba minuman dari gerai ini. Minu...    netral     3.0\n",
            "1    Makanan ini sangat mengecewakan. Rasanya terla...  negative     2.0\n",
            "2    memiliki cita rasa yang unik. Perpaduan antara...  positive     5.0\n",
            "3    Saya sangat merekomendasikan makanan ini kepad...  positive     5.0\n",
            "4    Pelayanan di warung ini cukup ramah dan efisie...    netral     3.0\n",
            "..                                                 ...       ...     ...\n",
            "670  Saya datang kesini coba menu ayam goreng telur...    netral     3.0\n",
            "671  Makanan cukup enak, harga ya lumayan.. Tapi pe...    netral     3.0\n",
            "672  Rasa makanan gak seenak dulu, atau mungkin kar...    netral     3.0\n",
            "673  Tidak terlalu spesial, terutama ikan bakarnya....    netral     3.0\n",
            "674  Makanan enak, sambel gratisnya mantab, sayang ...    netral     3.0\n",
            "\n",
            "[671 rows x 3 columns]\n"
          ]
        }
      ]
    },
    {
      "cell_type": "markdown",
      "source": [
        "Selanjutnya, dilakukan penghapusan terhadap data yang mengalami duplikasi."
      ],
      "metadata": {
        "id": "wDZc2T3oLpUc"
      }
    },
    {
      "cell_type": "code",
      "source": [
        "df = data.copy()\n",
        "def normalize_text(text):\n",
        "  text = text.lower()  # Mengubah semua karakter menjadi huruf kecil\n",
        "  text = text.strip(\" \") # Menghapus spasi di awal dan akhir teks\n",
        "  text = re.sub(r'[?|$|.|!_:\")(-+,]', '', text) # Menghapus karakter khusus seperti ?, $, ., !, _, dll.\n",
        "  text = re.sub(r'\\d+', '', text) # Menghapus angka\n",
        "  text = re.sub(r'[^a-zA-Z. ]', '', text) # Menghapus karakter selain huruf dan spasi\n",
        "  text = re.sub(r'\\s+', ' ', text) # Menggantikan beberapa spasi berturut-turut dengan satu spasi\n",
        "  text = re.sub(r'(\\w)\\1{1,}', r'\\1\\1', text)  # Normalisasi huruf berlebihan\n",
        "  return text\n",
        "\n",
        "df['clean_teks'] = df['ulasan'].apply(normalize_text)\n",
        "df.head(10)"
      ],
      "metadata": {
        "colab": {
          "base_uri": "https://localhost:8080/",
          "height": 363
        },
        "id": "Cj2sUl16RIDP",
        "outputId": "25a406a5-7f36-4158-a077-da15a201d1fb"
      },
      "execution_count": null,
      "outputs": [
        {
          "output_type": "execute_result",
          "data": {
            "text/plain": [
              "                                              ulasan  sentimen  rating  \\\n",
              "0  Saya baru mencoba minuman dari gerai ini. Minu...    netral     3.0   \n",
              "1  Makanan ini sangat mengecewakan. Rasanya terla...  negative     2.0   \n",
              "2  memiliki cita rasa yang unik. Perpaduan antara...  positive     5.0   \n",
              "3  Saya sangat merekomendasikan makanan ini kepad...  positive     5.0   \n",
              "4  Pelayanan di warung ini cukup ramah dan efisie...    netral     3.0   \n",
              "5  tempat yang layak untuk mencoba minuman segar ...    netral     3.0   \n",
              "6  Makanan ini memiliki rasa yang unik dan tidak ...  positive     4.0   \n",
              "7  Pilihan yang sangat baik untuk camilan sehat s...  positive     4.0   \n",
              "8  Inovatif dan beragam, selalu ada sesuatu yang ...  positive     4.0   \n",
              "9      Tidak mengecewakan, harganya juga terjangkau.  positive     4.0   \n",
              "\n",
              "                                          clean_teks  \n",
              "0  saya baru mencoba minuman dari gerai ini minum...  \n",
              "1  makanan ini sangat mengecewakan rasanya terlal...  \n",
              "2  memiliki cita rasa yang unik perpaduan antara ...  \n",
              "3  saya sangat merekomendasikan makanan ini kepad...  \n",
              "4  pelayanan di warung ini cukup ramah dan efisie...  \n",
              "5  tempat yang layak untuk mencoba minuman segar ...  \n",
              "6  makanan ini memiliki rasa yang unik dan tidak ...  \n",
              "7  pilihan yang sangat baik untuk camilan sehat s...  \n",
              "8  inovatif dan beragam selalu ada sesuatu yang b...  \n",
              "9        tidak mengecewakan harganya juga terjangkau  "
            ],
            "text/html": [
              "\n",
              "  <div id=\"df-c2727e05-32f0-4f41-b4fa-ff91e55fe149\" class=\"colab-df-container\">\n",
              "    <div>\n",
              "<style scoped>\n",
              "    .dataframe tbody tr th:only-of-type {\n",
              "        vertical-align: middle;\n",
              "    }\n",
              "\n",
              "    .dataframe tbody tr th {\n",
              "        vertical-align: top;\n",
              "    }\n",
              "\n",
              "    .dataframe thead th {\n",
              "        text-align: right;\n",
              "    }\n",
              "</style>\n",
              "<table border=\"1\" class=\"dataframe\">\n",
              "  <thead>\n",
              "    <tr style=\"text-align: right;\">\n",
              "      <th></th>\n",
              "      <th>ulasan</th>\n",
              "      <th>sentimen</th>\n",
              "      <th>rating</th>\n",
              "      <th>clean_teks</th>\n",
              "    </tr>\n",
              "  </thead>\n",
              "  <tbody>\n",
              "    <tr>\n",
              "      <th>0</th>\n",
              "      <td>Saya baru mencoba minuman dari gerai ini. Minu...</td>\n",
              "      <td>netral</td>\n",
              "      <td>3.0</td>\n",
              "      <td>saya baru mencoba minuman dari gerai ini minum...</td>\n",
              "    </tr>\n",
              "    <tr>\n",
              "      <th>1</th>\n",
              "      <td>Makanan ini sangat mengecewakan. Rasanya terla...</td>\n",
              "      <td>negative</td>\n",
              "      <td>2.0</td>\n",
              "      <td>makanan ini sangat mengecewakan rasanya terlal...</td>\n",
              "    </tr>\n",
              "    <tr>\n",
              "      <th>2</th>\n",
              "      <td>memiliki cita rasa yang unik. Perpaduan antara...</td>\n",
              "      <td>positive</td>\n",
              "      <td>5.0</td>\n",
              "      <td>memiliki cita rasa yang unik perpaduan antara ...</td>\n",
              "    </tr>\n",
              "    <tr>\n",
              "      <th>3</th>\n",
              "      <td>Saya sangat merekomendasikan makanan ini kepad...</td>\n",
              "      <td>positive</td>\n",
              "      <td>5.0</td>\n",
              "      <td>saya sangat merekomendasikan makanan ini kepad...</td>\n",
              "    </tr>\n",
              "    <tr>\n",
              "      <th>4</th>\n",
              "      <td>Pelayanan di warung ini cukup ramah dan efisie...</td>\n",
              "      <td>netral</td>\n",
              "      <td>3.0</td>\n",
              "      <td>pelayanan di warung ini cukup ramah dan efisie...</td>\n",
              "    </tr>\n",
              "    <tr>\n",
              "      <th>5</th>\n",
              "      <td>tempat yang layak untuk mencoba minuman segar ...</td>\n",
              "      <td>netral</td>\n",
              "      <td>3.0</td>\n",
              "      <td>tempat yang layak untuk mencoba minuman segar ...</td>\n",
              "    </tr>\n",
              "    <tr>\n",
              "      <th>6</th>\n",
              "      <td>Makanan ini memiliki rasa yang unik dan tidak ...</td>\n",
              "      <td>positive</td>\n",
              "      <td>4.0</td>\n",
              "      <td>makanan ini memiliki rasa yang unik dan tidak ...</td>\n",
              "    </tr>\n",
              "    <tr>\n",
              "      <th>7</th>\n",
              "      <td>Pilihan yang sangat baik untuk camilan sehat s...</td>\n",
              "      <td>positive</td>\n",
              "      <td>4.0</td>\n",
              "      <td>pilihan yang sangat baik untuk camilan sehat s...</td>\n",
              "    </tr>\n",
              "    <tr>\n",
              "      <th>8</th>\n",
              "      <td>Inovatif dan beragam, selalu ada sesuatu yang ...</td>\n",
              "      <td>positive</td>\n",
              "      <td>4.0</td>\n",
              "      <td>inovatif dan beragam selalu ada sesuatu yang b...</td>\n",
              "    </tr>\n",
              "    <tr>\n",
              "      <th>9</th>\n",
              "      <td>Tidak mengecewakan, harganya juga terjangkau.</td>\n",
              "      <td>positive</td>\n",
              "      <td>4.0</td>\n",
              "      <td>tidak mengecewakan harganya juga terjangkau</td>\n",
              "    </tr>\n",
              "  </tbody>\n",
              "</table>\n",
              "</div>\n",
              "    <div class=\"colab-df-buttons\">\n",
              "\n",
              "  <div class=\"colab-df-container\">\n",
              "    <button class=\"colab-df-convert\" onclick=\"convertToInteractive('df-c2727e05-32f0-4f41-b4fa-ff91e55fe149')\"\n",
              "            title=\"Convert this dataframe to an interactive table.\"\n",
              "            style=\"display:none;\">\n",
              "\n",
              "  <svg xmlns=\"http://www.w3.org/2000/svg\" height=\"24px\" viewBox=\"0 -960 960 960\">\n",
              "    <path d=\"M120-120v-720h720v720H120Zm60-500h600v-160H180v160Zm220 220h160v-160H400v160Zm0 220h160v-160H400v160ZM180-400h160v-160H180v160Zm440 0h160v-160H620v160ZM180-180h160v-160H180v160Zm440 0h160v-160H620v160Z\"/>\n",
              "  </svg>\n",
              "    </button>\n",
              "\n",
              "  <style>\n",
              "    .colab-df-container {\n",
              "      display:flex;\n",
              "      gap: 12px;\n",
              "    }\n",
              "\n",
              "    .colab-df-convert {\n",
              "      background-color: #E8F0FE;\n",
              "      border: none;\n",
              "      border-radius: 50%;\n",
              "      cursor: pointer;\n",
              "      display: none;\n",
              "      fill: #1967D2;\n",
              "      height: 32px;\n",
              "      padding: 0 0 0 0;\n",
              "      width: 32px;\n",
              "    }\n",
              "\n",
              "    .colab-df-convert:hover {\n",
              "      background-color: #E2EBFA;\n",
              "      box-shadow: 0px 1px 2px rgba(60, 64, 67, 0.3), 0px 1px 3px 1px rgba(60, 64, 67, 0.15);\n",
              "      fill: #174EA6;\n",
              "    }\n",
              "\n",
              "    .colab-df-buttons div {\n",
              "      margin-bottom: 4px;\n",
              "    }\n",
              "\n",
              "    [theme=dark] .colab-df-convert {\n",
              "      background-color: #3B4455;\n",
              "      fill: #D2E3FC;\n",
              "    }\n",
              "\n",
              "    [theme=dark] .colab-df-convert:hover {\n",
              "      background-color: #434B5C;\n",
              "      box-shadow: 0px 1px 3px 1px rgba(0, 0, 0, 0.15);\n",
              "      filter: drop-shadow(0px 1px 2px rgba(0, 0, 0, 0.3));\n",
              "      fill: #FFFFFF;\n",
              "    }\n",
              "  </style>\n",
              "\n",
              "    <script>\n",
              "      const buttonEl =\n",
              "        document.querySelector('#df-c2727e05-32f0-4f41-b4fa-ff91e55fe149 button.colab-df-convert');\n",
              "      buttonEl.style.display =\n",
              "        google.colab.kernel.accessAllowed ? 'block' : 'none';\n",
              "\n",
              "      async function convertToInteractive(key) {\n",
              "        const element = document.querySelector('#df-c2727e05-32f0-4f41-b4fa-ff91e55fe149');\n",
              "        const dataTable =\n",
              "          await google.colab.kernel.invokeFunction('convertToInteractive',\n",
              "                                                    [key], {});\n",
              "        if (!dataTable) return;\n",
              "\n",
              "        const docLinkHtml = 'Like what you see? Visit the ' +\n",
              "          '<a target=\"_blank\" href=https://colab.research.google.com/notebooks/data_table.ipynb>data table notebook</a>'\n",
              "          + ' to learn more about interactive tables.';\n",
              "        element.innerHTML = '';\n",
              "        dataTable['output_type'] = 'display_data';\n",
              "        await google.colab.output.renderOutput(dataTable, element);\n",
              "        const docLink = document.createElement('div');\n",
              "        docLink.innerHTML = docLinkHtml;\n",
              "        element.appendChild(docLink);\n",
              "      }\n",
              "    </script>\n",
              "  </div>\n",
              "\n",
              "\n",
              "<div id=\"df-2d31ba87-dc8e-4d5f-9864-bca59ab25b2b\">\n",
              "  <button class=\"colab-df-quickchart\" onclick=\"quickchart('df-2d31ba87-dc8e-4d5f-9864-bca59ab25b2b')\"\n",
              "            title=\"Suggest charts\"\n",
              "            style=\"display:none;\">\n",
              "\n",
              "<svg xmlns=\"http://www.w3.org/2000/svg\" height=\"24px\"viewBox=\"0 0 24 24\"\n",
              "     width=\"24px\">\n",
              "    <g>\n",
              "        <path d=\"M19 3H5c-1.1 0-2 .9-2 2v14c0 1.1.9 2 2 2h14c1.1 0 2-.9 2-2V5c0-1.1-.9-2-2-2zM9 17H7v-7h2v7zm4 0h-2V7h2v10zm4 0h-2v-4h2v4z\"/>\n",
              "    </g>\n",
              "</svg>\n",
              "  </button>\n",
              "\n",
              "<style>\n",
              "  .colab-df-quickchart {\n",
              "      --bg-color: #E8F0FE;\n",
              "      --fill-color: #1967D2;\n",
              "      --hover-bg-color: #E2EBFA;\n",
              "      --hover-fill-color: #174EA6;\n",
              "      --disabled-fill-color: #AAA;\n",
              "      --disabled-bg-color: #DDD;\n",
              "  }\n",
              "\n",
              "  [theme=dark] .colab-df-quickchart {\n",
              "      --bg-color: #3B4455;\n",
              "      --fill-color: #D2E3FC;\n",
              "      --hover-bg-color: #434B5C;\n",
              "      --hover-fill-color: #FFFFFF;\n",
              "      --disabled-bg-color: #3B4455;\n",
              "      --disabled-fill-color: #666;\n",
              "  }\n",
              "\n",
              "  .colab-df-quickchart {\n",
              "    background-color: var(--bg-color);\n",
              "    border: none;\n",
              "    border-radius: 50%;\n",
              "    cursor: pointer;\n",
              "    display: none;\n",
              "    fill: var(--fill-color);\n",
              "    height: 32px;\n",
              "    padding: 0;\n",
              "    width: 32px;\n",
              "  }\n",
              "\n",
              "  .colab-df-quickchart:hover {\n",
              "    background-color: var(--hover-bg-color);\n",
              "    box-shadow: 0 1px 2px rgba(60, 64, 67, 0.3), 0 1px 3px 1px rgba(60, 64, 67, 0.15);\n",
              "    fill: var(--button-hover-fill-color);\n",
              "  }\n",
              "\n",
              "  .colab-df-quickchart-complete:disabled,\n",
              "  .colab-df-quickchart-complete:disabled:hover {\n",
              "    background-color: var(--disabled-bg-color);\n",
              "    fill: var(--disabled-fill-color);\n",
              "    box-shadow: none;\n",
              "  }\n",
              "\n",
              "  .colab-df-spinner {\n",
              "    border: 2px solid var(--fill-color);\n",
              "    border-color: transparent;\n",
              "    border-bottom-color: var(--fill-color);\n",
              "    animation:\n",
              "      spin 1s steps(1) infinite;\n",
              "  }\n",
              "\n",
              "  @keyframes spin {\n",
              "    0% {\n",
              "      border-color: transparent;\n",
              "      border-bottom-color: var(--fill-color);\n",
              "      border-left-color: var(--fill-color);\n",
              "    }\n",
              "    20% {\n",
              "      border-color: transparent;\n",
              "      border-left-color: var(--fill-color);\n",
              "      border-top-color: var(--fill-color);\n",
              "    }\n",
              "    30% {\n",
              "      border-color: transparent;\n",
              "      border-left-color: var(--fill-color);\n",
              "      border-top-color: var(--fill-color);\n",
              "      border-right-color: var(--fill-color);\n",
              "    }\n",
              "    40% {\n",
              "      border-color: transparent;\n",
              "      border-right-color: var(--fill-color);\n",
              "      border-top-color: var(--fill-color);\n",
              "    }\n",
              "    60% {\n",
              "      border-color: transparent;\n",
              "      border-right-color: var(--fill-color);\n",
              "    }\n",
              "    80% {\n",
              "      border-color: transparent;\n",
              "      border-right-color: var(--fill-color);\n",
              "      border-bottom-color: var(--fill-color);\n",
              "    }\n",
              "    90% {\n",
              "      border-color: transparent;\n",
              "      border-bottom-color: var(--fill-color);\n",
              "    }\n",
              "  }\n",
              "</style>\n",
              "\n",
              "  <script>\n",
              "    async function quickchart(key) {\n",
              "      const quickchartButtonEl =\n",
              "        document.querySelector('#' + key + ' button');\n",
              "      quickchartButtonEl.disabled = true;  // To prevent multiple clicks.\n",
              "      quickchartButtonEl.classList.add('colab-df-spinner');\n",
              "      try {\n",
              "        const charts = await google.colab.kernel.invokeFunction(\n",
              "            'suggestCharts', [key], {});\n",
              "      } catch (error) {\n",
              "        console.error('Error during call to suggestCharts:', error);\n",
              "      }\n",
              "      quickchartButtonEl.classList.remove('colab-df-spinner');\n",
              "      quickchartButtonEl.classList.add('colab-df-quickchart-complete');\n",
              "    }\n",
              "    (() => {\n",
              "      let quickchartButtonEl =\n",
              "        document.querySelector('#df-2d31ba87-dc8e-4d5f-9864-bca59ab25b2b button');\n",
              "      quickchartButtonEl.style.display =\n",
              "        google.colab.kernel.accessAllowed ? 'block' : 'none';\n",
              "    })();\n",
              "  </script>\n",
              "</div>\n",
              "    </div>\n",
              "  </div>\n"
            ]
          },
          "metadata": {},
          "execution_count": 8
        }
      ]
    },
    {
      "cell_type": "markdown",
      "source": [
        "Pada kode diatas kami melakukan cleaning data diantaranya seperti mengubahnya menjadi huruf kecil, menghapus white space, menghapus karakter khusus (? < : ! @ # dll), menghapus angka, menghapus karakter selain huruf dan spasi, Menggantikan beberapa spasi berturut-turut dengan satu spasi, dan Normalisasi huruf berlebihan."
      ],
      "metadata": {
        "id": "TGr-TcDBMKkh"
      }
    },
    {
      "cell_type": "code",
      "source": [
        "!gdown --id 1u3__x8f28W8snXi8HwkZjwt5kR6fEsae"
      ],
      "metadata": {
        "colab": {
          "base_uri": "https://localhost:8080/"
        },
        "id": "X6SrJhygRSX0",
        "outputId": "b8723d1d-b783-4117-f380-d66ee4ab3f16"
      },
      "execution_count": null,
      "outputs": [
        {
          "output_type": "stream",
          "name": "stdout",
          "text": [
            "/usr/local/lib/python3.10/dist-packages/gdown/cli.py:121: FutureWarning: Option `--id` was deprecated in version 4.3.1 and will be removed in 5.0. You don't need to pass it anymore to use a file ID.\n",
            "  warnings.warn(\n",
            "Downloading...\n",
            "From: https://drive.google.com/uc?id=1u3__x8f28W8snXi8HwkZjwt5kR6fEsae\n",
            "To: /content/slang.txt\n",
            "100% 39.4k/39.4k [00:00<00:00, 95.6MB/s]\n"
          ]
        }
      ]
    },
    {
      "cell_type": "markdown",
      "source": [
        "Kode diatas digunakan untuk mengambil file slang.txt dimana file tersebut berisi kumpulan kata-kata yang memiliki singkatan seperti 'yg' akan dikembalikan menjadi 'yang'. Tahap ini merupakan normalisasi kata-kata."
      ],
      "metadata": {
        "id": "LUAUv_dKNul7"
      }
    },
    {
      "cell_type": "code",
      "source": [
        "slangs = open('slang.txt',\"r\",encoding=\"utf-8\", errors='replace')\n",
        "\n",
        "clear_slangs= []\n",
        "for newlines in slangs:\n",
        "  strip_re = newlines.strip(\"\\n\")\n",
        "  split = re.split(r'[:]',strip_re)\n",
        "  clear_slangs.append(split)\n",
        "clear_slangs[:5]"
      ],
      "metadata": {
        "colab": {
          "base_uri": "https://localhost:8080/"
        },
        "id": "Vsd22EyLRZA6",
        "outputId": "9ee5774e-4bc3-4428-a4d0-dc5306c64bca"
      },
      "execution_count": null,
      "outputs": [
        {
          "output_type": "execute_result",
          "data": {
            "text/plain": [
              "[['& ', ' dan'],\n",
              " ['dr ', ' dari'],\n",
              " ['abis ', ' habis'],\n",
              " ['ad ', ' ada'],\n",
              " ['alhmdulillah ', ' alhamdulillah']]"
            ]
          },
          "metadata": {},
          "execution_count": 10
        }
      ]
    },
    {
      "cell_type": "code",
      "source": [
        "slangs = [[k.strip(), v.strip()] for k,v in clear_slangs]\n",
        "dict_slangs = {key:values for key,values in slangs}"
      ],
      "metadata": {
        "id": "H3rND_gHRfLp"
      },
      "execution_count": null,
      "outputs": []
    },
    {
      "cell_type": "code",
      "source": [
        "clean_text = []\n",
        "for text in df['clean_teks']:\n",
        "  wordlist = TextBlob(text).words\n",
        "  for k,v in enumerate(wordlist):\n",
        "    if v in dict_slangs.keys():\n",
        "      wordlist[k] = dict_slangs[v]\n",
        "  clean_text.append(' '.join(wordlist))\n",
        "\n",
        "df['normalization'] = clean_text\n",
        "df.head(10)"
      ],
      "metadata": {
        "colab": {
          "base_uri": "https://localhost:8080/",
          "height": 363
        },
        "id": "NNtjnhklRffg",
        "outputId": "b92d4af9-133d-4316-8798-d5dec38fb847"
      },
      "execution_count": null,
      "outputs": [
        {
          "output_type": "execute_result",
          "data": {
            "text/plain": [
              "                                              ulasan  sentimen  rating  \\\n",
              "0  Saya baru mencoba minuman dari gerai ini. Minu...    netral     3.0   \n",
              "1  Makanan ini sangat mengecewakan. Rasanya terla...  negative     2.0   \n",
              "2  memiliki cita rasa yang unik. Perpaduan antara...  positive     5.0   \n",
              "3  Saya sangat merekomendasikan makanan ini kepad...  positive     5.0   \n",
              "4  Pelayanan di warung ini cukup ramah dan efisie...    netral     3.0   \n",
              "5  tempat yang layak untuk mencoba minuman segar ...    netral     3.0   \n",
              "6  Makanan ini memiliki rasa yang unik dan tidak ...  positive     4.0   \n",
              "7  Pilihan yang sangat baik untuk camilan sehat s...  positive     4.0   \n",
              "8  Inovatif dan beragam, selalu ada sesuatu yang ...  positive     4.0   \n",
              "9      Tidak mengecewakan, harganya juga terjangkau.  positive     4.0   \n",
              "\n",
              "                                          clean_teks  \\\n",
              "0  saya baru mencoba minuman dari gerai ini minum...   \n",
              "1  makanan ini sangat mengecewakan rasanya terlal...   \n",
              "2  memiliki cita rasa yang unik perpaduan antara ...   \n",
              "3  saya sangat merekomendasikan makanan ini kepad...   \n",
              "4  pelayanan di warung ini cukup ramah dan efisie...   \n",
              "5  tempat yang layak untuk mencoba minuman segar ...   \n",
              "6  makanan ini memiliki rasa yang unik dan tidak ...   \n",
              "7  pilihan yang sangat baik untuk camilan sehat s...   \n",
              "8  inovatif dan beragam selalu ada sesuatu yang b...   \n",
              "9        tidak mengecewakan harganya juga terjangkau   \n",
              "\n",
              "                                       normalization  \n",
              "0  saya baru mencoba minuman dari gerai ini minum...  \n",
              "1  makanan ini sangat mengecewakan rasanya terlal...  \n",
              "2  memiliki cita rasa yang unik perpaduan antara ...  \n",
              "3  saya sangat merekomendasikan makanan ini kepad...  \n",
              "4  pelayanan di warung ini cukup ramah dan efisie...  \n",
              "5  tempat yang layak untuk mencoba minuman segar ...  \n",
              "6  makanan ini memiliki rasa yang unik dan tidak ...  \n",
              "7  pilihan yang sangat baik untuk camilan sehat s...  \n",
              "8  inovatif dan beragam selalu ada sesuatu yang b...  \n",
              "9        tidak mengecewakan harganya juga terjangkau  "
            ],
            "text/html": [
              "\n",
              "  <div id=\"df-2f16b973-9c8a-4e0a-9995-1549bf7728c2\" class=\"colab-df-container\">\n",
              "    <div>\n",
              "<style scoped>\n",
              "    .dataframe tbody tr th:only-of-type {\n",
              "        vertical-align: middle;\n",
              "    }\n",
              "\n",
              "    .dataframe tbody tr th {\n",
              "        vertical-align: top;\n",
              "    }\n",
              "\n",
              "    .dataframe thead th {\n",
              "        text-align: right;\n",
              "    }\n",
              "</style>\n",
              "<table border=\"1\" class=\"dataframe\">\n",
              "  <thead>\n",
              "    <tr style=\"text-align: right;\">\n",
              "      <th></th>\n",
              "      <th>ulasan</th>\n",
              "      <th>sentimen</th>\n",
              "      <th>rating</th>\n",
              "      <th>clean_teks</th>\n",
              "      <th>normalization</th>\n",
              "    </tr>\n",
              "  </thead>\n",
              "  <tbody>\n",
              "    <tr>\n",
              "      <th>0</th>\n",
              "      <td>Saya baru mencoba minuman dari gerai ini. Minu...</td>\n",
              "      <td>netral</td>\n",
              "      <td>3.0</td>\n",
              "      <td>saya baru mencoba minuman dari gerai ini minum...</td>\n",
              "      <td>saya baru mencoba minuman dari gerai ini minum...</td>\n",
              "    </tr>\n",
              "    <tr>\n",
              "      <th>1</th>\n",
              "      <td>Makanan ini sangat mengecewakan. Rasanya terla...</td>\n",
              "      <td>negative</td>\n",
              "      <td>2.0</td>\n",
              "      <td>makanan ini sangat mengecewakan rasanya terlal...</td>\n",
              "      <td>makanan ini sangat mengecewakan rasanya terlal...</td>\n",
              "    </tr>\n",
              "    <tr>\n",
              "      <th>2</th>\n",
              "      <td>memiliki cita rasa yang unik. Perpaduan antara...</td>\n",
              "      <td>positive</td>\n",
              "      <td>5.0</td>\n",
              "      <td>memiliki cita rasa yang unik perpaduan antara ...</td>\n",
              "      <td>memiliki cita rasa yang unik perpaduan antara ...</td>\n",
              "    </tr>\n",
              "    <tr>\n",
              "      <th>3</th>\n",
              "      <td>Saya sangat merekomendasikan makanan ini kepad...</td>\n",
              "      <td>positive</td>\n",
              "      <td>5.0</td>\n",
              "      <td>saya sangat merekomendasikan makanan ini kepad...</td>\n",
              "      <td>saya sangat merekomendasikan makanan ini kepad...</td>\n",
              "    </tr>\n",
              "    <tr>\n",
              "      <th>4</th>\n",
              "      <td>Pelayanan di warung ini cukup ramah dan efisie...</td>\n",
              "      <td>netral</td>\n",
              "      <td>3.0</td>\n",
              "      <td>pelayanan di warung ini cukup ramah dan efisie...</td>\n",
              "      <td>pelayanan di warung ini cukup ramah dan efisie...</td>\n",
              "    </tr>\n",
              "    <tr>\n",
              "      <th>5</th>\n",
              "      <td>tempat yang layak untuk mencoba minuman segar ...</td>\n",
              "      <td>netral</td>\n",
              "      <td>3.0</td>\n",
              "      <td>tempat yang layak untuk mencoba minuman segar ...</td>\n",
              "      <td>tempat yang layak untuk mencoba minuman segar ...</td>\n",
              "    </tr>\n",
              "    <tr>\n",
              "      <th>6</th>\n",
              "      <td>Makanan ini memiliki rasa yang unik dan tidak ...</td>\n",
              "      <td>positive</td>\n",
              "      <td>4.0</td>\n",
              "      <td>makanan ini memiliki rasa yang unik dan tidak ...</td>\n",
              "      <td>makanan ini memiliki rasa yang unik dan tidak ...</td>\n",
              "    </tr>\n",
              "    <tr>\n",
              "      <th>7</th>\n",
              "      <td>Pilihan yang sangat baik untuk camilan sehat s...</td>\n",
              "      <td>positive</td>\n",
              "      <td>4.0</td>\n",
              "      <td>pilihan yang sangat baik untuk camilan sehat s...</td>\n",
              "      <td>pilihan yang sangat baik untuk camilan sehat s...</td>\n",
              "    </tr>\n",
              "    <tr>\n",
              "      <th>8</th>\n",
              "      <td>Inovatif dan beragam, selalu ada sesuatu yang ...</td>\n",
              "      <td>positive</td>\n",
              "      <td>4.0</td>\n",
              "      <td>inovatif dan beragam selalu ada sesuatu yang b...</td>\n",
              "      <td>inovatif dan beragam selalu ada sesuatu yang b...</td>\n",
              "    </tr>\n",
              "    <tr>\n",
              "      <th>9</th>\n",
              "      <td>Tidak mengecewakan, harganya juga terjangkau.</td>\n",
              "      <td>positive</td>\n",
              "      <td>4.0</td>\n",
              "      <td>tidak mengecewakan harganya juga terjangkau</td>\n",
              "      <td>tidak mengecewakan harganya juga terjangkau</td>\n",
              "    </tr>\n",
              "  </tbody>\n",
              "</table>\n",
              "</div>\n",
              "    <div class=\"colab-df-buttons\">\n",
              "\n",
              "  <div class=\"colab-df-container\">\n",
              "    <button class=\"colab-df-convert\" onclick=\"convertToInteractive('df-2f16b973-9c8a-4e0a-9995-1549bf7728c2')\"\n",
              "            title=\"Convert this dataframe to an interactive table.\"\n",
              "            style=\"display:none;\">\n",
              "\n",
              "  <svg xmlns=\"http://www.w3.org/2000/svg\" height=\"24px\" viewBox=\"0 -960 960 960\">\n",
              "    <path d=\"M120-120v-720h720v720H120Zm60-500h600v-160H180v160Zm220 220h160v-160H400v160Zm0 220h160v-160H400v160ZM180-400h160v-160H180v160Zm440 0h160v-160H620v160ZM180-180h160v-160H180v160Zm440 0h160v-160H620v160Z\"/>\n",
              "  </svg>\n",
              "    </button>\n",
              "\n",
              "  <style>\n",
              "    .colab-df-container {\n",
              "      display:flex;\n",
              "      gap: 12px;\n",
              "    }\n",
              "\n",
              "    .colab-df-convert {\n",
              "      background-color: #E8F0FE;\n",
              "      border: none;\n",
              "      border-radius: 50%;\n",
              "      cursor: pointer;\n",
              "      display: none;\n",
              "      fill: #1967D2;\n",
              "      height: 32px;\n",
              "      padding: 0 0 0 0;\n",
              "      width: 32px;\n",
              "    }\n",
              "\n",
              "    .colab-df-convert:hover {\n",
              "      background-color: #E2EBFA;\n",
              "      box-shadow: 0px 1px 2px rgba(60, 64, 67, 0.3), 0px 1px 3px 1px rgba(60, 64, 67, 0.15);\n",
              "      fill: #174EA6;\n",
              "    }\n",
              "\n",
              "    .colab-df-buttons div {\n",
              "      margin-bottom: 4px;\n",
              "    }\n",
              "\n",
              "    [theme=dark] .colab-df-convert {\n",
              "      background-color: #3B4455;\n",
              "      fill: #D2E3FC;\n",
              "    }\n",
              "\n",
              "    [theme=dark] .colab-df-convert:hover {\n",
              "      background-color: #434B5C;\n",
              "      box-shadow: 0px 1px 3px 1px rgba(0, 0, 0, 0.15);\n",
              "      filter: drop-shadow(0px 1px 2px rgba(0, 0, 0, 0.3));\n",
              "      fill: #FFFFFF;\n",
              "    }\n",
              "  </style>\n",
              "\n",
              "    <script>\n",
              "      const buttonEl =\n",
              "        document.querySelector('#df-2f16b973-9c8a-4e0a-9995-1549bf7728c2 button.colab-df-convert');\n",
              "      buttonEl.style.display =\n",
              "        google.colab.kernel.accessAllowed ? 'block' : 'none';\n",
              "\n",
              "      async function convertToInteractive(key) {\n",
              "        const element = document.querySelector('#df-2f16b973-9c8a-4e0a-9995-1549bf7728c2');\n",
              "        const dataTable =\n",
              "          await google.colab.kernel.invokeFunction('convertToInteractive',\n",
              "                                                    [key], {});\n",
              "        if (!dataTable) return;\n",
              "\n",
              "        const docLinkHtml = 'Like what you see? Visit the ' +\n",
              "          '<a target=\"_blank\" href=https://colab.research.google.com/notebooks/data_table.ipynb>data table notebook</a>'\n",
              "          + ' to learn more about interactive tables.';\n",
              "        element.innerHTML = '';\n",
              "        dataTable['output_type'] = 'display_data';\n",
              "        await google.colab.output.renderOutput(dataTable, element);\n",
              "        const docLink = document.createElement('div');\n",
              "        docLink.innerHTML = docLinkHtml;\n",
              "        element.appendChild(docLink);\n",
              "      }\n",
              "    </script>\n",
              "  </div>\n",
              "\n",
              "\n",
              "<div id=\"df-18200098-0972-4f1c-9646-9c8c8afffbcd\">\n",
              "  <button class=\"colab-df-quickchart\" onclick=\"quickchart('df-18200098-0972-4f1c-9646-9c8c8afffbcd')\"\n",
              "            title=\"Suggest charts\"\n",
              "            style=\"display:none;\">\n",
              "\n",
              "<svg xmlns=\"http://www.w3.org/2000/svg\" height=\"24px\"viewBox=\"0 0 24 24\"\n",
              "     width=\"24px\">\n",
              "    <g>\n",
              "        <path d=\"M19 3H5c-1.1 0-2 .9-2 2v14c0 1.1.9 2 2 2h14c1.1 0 2-.9 2-2V5c0-1.1-.9-2-2-2zM9 17H7v-7h2v7zm4 0h-2V7h2v10zm4 0h-2v-4h2v4z\"/>\n",
              "    </g>\n",
              "</svg>\n",
              "  </button>\n",
              "\n",
              "<style>\n",
              "  .colab-df-quickchart {\n",
              "      --bg-color: #E8F0FE;\n",
              "      --fill-color: #1967D2;\n",
              "      --hover-bg-color: #E2EBFA;\n",
              "      --hover-fill-color: #174EA6;\n",
              "      --disabled-fill-color: #AAA;\n",
              "      --disabled-bg-color: #DDD;\n",
              "  }\n",
              "\n",
              "  [theme=dark] .colab-df-quickchart {\n",
              "      --bg-color: #3B4455;\n",
              "      --fill-color: #D2E3FC;\n",
              "      --hover-bg-color: #434B5C;\n",
              "      --hover-fill-color: #FFFFFF;\n",
              "      --disabled-bg-color: #3B4455;\n",
              "      --disabled-fill-color: #666;\n",
              "  }\n",
              "\n",
              "  .colab-df-quickchart {\n",
              "    background-color: var(--bg-color);\n",
              "    border: none;\n",
              "    border-radius: 50%;\n",
              "    cursor: pointer;\n",
              "    display: none;\n",
              "    fill: var(--fill-color);\n",
              "    height: 32px;\n",
              "    padding: 0;\n",
              "    width: 32px;\n",
              "  }\n",
              "\n",
              "  .colab-df-quickchart:hover {\n",
              "    background-color: var(--hover-bg-color);\n",
              "    box-shadow: 0 1px 2px rgba(60, 64, 67, 0.3), 0 1px 3px 1px rgba(60, 64, 67, 0.15);\n",
              "    fill: var(--button-hover-fill-color);\n",
              "  }\n",
              "\n",
              "  .colab-df-quickchart-complete:disabled,\n",
              "  .colab-df-quickchart-complete:disabled:hover {\n",
              "    background-color: var(--disabled-bg-color);\n",
              "    fill: var(--disabled-fill-color);\n",
              "    box-shadow: none;\n",
              "  }\n",
              "\n",
              "  .colab-df-spinner {\n",
              "    border: 2px solid var(--fill-color);\n",
              "    border-color: transparent;\n",
              "    border-bottom-color: var(--fill-color);\n",
              "    animation:\n",
              "      spin 1s steps(1) infinite;\n",
              "  }\n",
              "\n",
              "  @keyframes spin {\n",
              "    0% {\n",
              "      border-color: transparent;\n",
              "      border-bottom-color: var(--fill-color);\n",
              "      border-left-color: var(--fill-color);\n",
              "    }\n",
              "    20% {\n",
              "      border-color: transparent;\n",
              "      border-left-color: var(--fill-color);\n",
              "      border-top-color: var(--fill-color);\n",
              "    }\n",
              "    30% {\n",
              "      border-color: transparent;\n",
              "      border-left-color: var(--fill-color);\n",
              "      border-top-color: var(--fill-color);\n",
              "      border-right-color: var(--fill-color);\n",
              "    }\n",
              "    40% {\n",
              "      border-color: transparent;\n",
              "      border-right-color: var(--fill-color);\n",
              "      border-top-color: var(--fill-color);\n",
              "    }\n",
              "    60% {\n",
              "      border-color: transparent;\n",
              "      border-right-color: var(--fill-color);\n",
              "    }\n",
              "    80% {\n",
              "      border-color: transparent;\n",
              "      border-right-color: var(--fill-color);\n",
              "      border-bottom-color: var(--fill-color);\n",
              "    }\n",
              "    90% {\n",
              "      border-color: transparent;\n",
              "      border-bottom-color: var(--fill-color);\n",
              "    }\n",
              "  }\n",
              "</style>\n",
              "\n",
              "  <script>\n",
              "    async function quickchart(key) {\n",
              "      const quickchartButtonEl =\n",
              "        document.querySelector('#' + key + ' button');\n",
              "      quickchartButtonEl.disabled = true;  // To prevent multiple clicks.\n",
              "      quickchartButtonEl.classList.add('colab-df-spinner');\n",
              "      try {\n",
              "        const charts = await google.colab.kernel.invokeFunction(\n",
              "            'suggestCharts', [key], {});\n",
              "      } catch (error) {\n",
              "        console.error('Error during call to suggestCharts:', error);\n",
              "      }\n",
              "      quickchartButtonEl.classList.remove('colab-df-spinner');\n",
              "      quickchartButtonEl.classList.add('colab-df-quickchart-complete');\n",
              "    }\n",
              "    (() => {\n",
              "      let quickchartButtonEl =\n",
              "        document.querySelector('#df-18200098-0972-4f1c-9646-9c8c8afffbcd button');\n",
              "      quickchartButtonEl.style.display =\n",
              "        google.colab.kernel.accessAllowed ? 'block' : 'none';\n",
              "    })();\n",
              "  </script>\n",
              "</div>\n",
              "    </div>\n",
              "  </div>\n"
            ]
          },
          "metadata": {},
          "execution_count": 12
        }
      ]
    },
    {
      "cell_type": "markdown",
      "source": [
        "Dapat dilihat terdapat kolom baru bernama 'normalization' yang berisi kalimat di kolom 'ulasan' yang telah dinormalisasi."
      ],
      "metadata": {
        "id": "g2qyP93qQMA4"
      }
    },
    {
      "cell_type": "code",
      "source": [
        "stopwords = [\n",
        "    \"nya\", \"duarebuan\", \"berarti\", \"lo\", \"sakit\", \"jiwa\", \"ye\", \"kan\", \"broh\", \"sist\", \"ugh\", \"bebashzz\", \"per\",\n",
        "    \"yekan\", \"yang\", \"saya\", \"dia\", \"dan\", \"terlihat\", \"tergesa-gesa\", \"nilai\", \"dari\",\n",
        "    \"pengalaman\", \"ini\", \"semakin\", \"duh\", \"kikilnya\", \"crowded\", \"obat\", \"mie kocok\", \"biarpun\",\n",
        "    \"kaki\", \"lima\", \"mie\", \"siomay\", \"batagor\", \"dimsum\", \"sate\", \"di\" \"atas\", \"siapa pun\", \"siapa\",\n",
        "    \"di\", \"restoran\", \"ini\", \"di\", \"sini\", \"benar-benar\", \"pertama-tama\", \"ke\" \"sini\", \"roast\", \"potato\", \"pork\", \"pricey\",\n",
        "    \"ombe\", \"big\", \"breakfast\", \"baksonya\", \"cuanki\", \"bumbu\", \"kacang\", \"cilung\", \"eskrimnya\", \"rendang\", \"mi\", \"aceh\", \"gudeg\",\n",
        "    \"seblak\", \"gorengannya\", \"ricebowl\", \"isian ayamnya\", \"sayuran\", \"basreng\", \"pedes\", \"sate daging\",\n",
        "    \"ciloknya\",\"bumbu\",\"es teh\", \"nasi goreng\", \"soto ayam\", \"kripik\", \"singkong\", \"cakue\", \"tahu bulat\",\n",
        "    \"sotong\", \"rotinya\", \"singkong\", \"segi\", \"plating\", \"gado-gado\",\"pempek\",\"udang\", \"cumi\", \"goreng\", \"tepung\", \"kangkung\", \"tauco\", \"sama\", \"istri\",\n",
        "    \"ikan\", \"bakar\", \"bakso\", \"khas\", \"wonogiri\", \"kuning\", \"bogor\", \"nih\", \"minyak\", \"samin\", \"duhhh\", \"nan\", \"perkedel\",\n",
        "    \"babat\", \"paru\", \"empal\", \"camilan\", \"dr\", \"ke\", \"hehe\", \"tumis\", \"dadaknya\", \"baso\", \"kaldu\",\n",
        "    \"sumsum-nya\", \"abissss\", \"bihun\", \"pangsit\", \"sagu\", \"kasta\", \"kuy\", \"cuss\", \"mienya\", \"bening\",\n",
        "    \"keruh\", \"keripik\", \"tukang\", \"gali\", \"haha\", \"loading\", \"kebulinya\", \"acarnya\", \"kerupuk\", \"kebuli\",\n",
        "    \"bakmi\", \"pcs\", \"dimsumnya\", \"cabenya\", \"lengkuas\", \"potongan\", \"dada\", \"berserat\", \"dg\", \"utk\",\n",
        "    \"cemilannya\", \"lumpia\", \"udangnya\", \"pd\", \"jawa\", \"timur\", \"jakarta\", \"cingurnya\", \"rujak\", \"cingur\"\n",
        "    \"doger\", \"genjer\", \"lamongan\", \"sekutengnya\", \"gudeg\", \"kecombrangnya\", \"mendoannya\", \"fuyung\", \"hai\",\n",
        "    \"mentege\", \"pepes\", \"gudegnya\", \"kreceknya\", \"krecek\", \"benyek\", \"taliwangnya\", \"plecingnya\",\n",
        "    \"jagungnya\", \"barendo\", \"dendengnya\", \"dendeng\", \"ijo\", \"merah\", \"beras\", \"pera\", \"balado\",\n",
        "    \"kembung\", \"yaaa\", \"deh\", \"guyss\", \"sip\", \"wow\", \"kredok\", \"liwetnya\", \"pesmol\", \"samosa\",\n",
        "    \"roti\", \"capatinya\", \"samosanya\", \"bubur\", \"briyaninya\", \"canay\", \"maryamnya\", \"kopi\" ,\"pakistannya\",\n",
        "    \"pasta\", \"spaghettinya\", \"ifumie\", \"pastanya\", \"carbonara\", \"sauce\", \"capcay\", \"kentang\", \"teh\",\n",
        "    \"smoked\", \"beef\", \"pizza\", \"spicy\" , \"tunanya\", \"huhuhu\", \"kopinya\", \"hazelnut\", \"chococino\",\n",
        "    \"seafoodnya\", \"salted\", \"egg\", \"kerang\", \"bawang\", \"putihnya\", \"sekel\", \"cangkang\", \"mangut\",\n",
        "    \"garang\", \"asemnya\", \"andaliman\", \"tapanuli\", \"rumah\", \"bpk\", \"batak\", \"the\", \"lah\", \"ini\",\n",
        "    \"keju\", \"kejunya\", \"boba\", \"sedotannya\", \"topping\", \"mika\", \"sterofoam\", \"siomay\", \"pangsitnya\",\n",
        "    \"somay\", \"mango\", \"tea\", \"dinasgor\", \"suiran\", \"gotengnya\", \"ati\", \"seblak-seblaknya\", \"gelasnya\",\n",
        "    \"jahenya\", \"timun\", \"tomat\", \"chickennya\", \"cupnya\", \"tutup\", \"batu\", \"mah\", \"laper-lapernya\", \"sambel\", \"sayang\", \"ikan\", \"bakar\", \"ikannya\", \"ayam\", \"goreng\", \"telur\",\n",
        "    \"hmmm\", \"awalnya\", \"kirain\", \"ternyata\", \"bakar\", \"madu\", \"sambal\", \"merahnya\",\n",
        "    \"minuman\", \"buah\", \"markisa\", \"ala-ala\", \"bali\", \"rempah\", \"bakso\", \"penyet\",\n",
        "    \"tangsel\", \"nemunya\", \"pecel\", \"lele\", \"sambal\", \"sop\", \"iga\", \"rebus\", \"dagingnya\",\n",
        "    \"sepiring\", \"nasi\", \"bebek\", \"kremes\", \"gorengnya\", \"makanannya\", \"cumi\", \"rempah\",\n",
        "    \"tepung\", \"dah\", \"karedok\", \"udang\", \"gandum\", \"tahu\", \"kipas\", \"jamur\", \"crispy\", \"kuwe\",\n",
        "    \"ekor\", \"udang\", \"rebon\", \"kalasan\", \"gurame\", \"pecak\", \"soto\", \"daging\", \"tempe\", \"otak-otak\",\n",
        "    \"asam\", \"manis\", \"pedes\", \"sotonya\", \"kangkung\", \"udang\", \"bacem\", \"nasi\", \"pecak\", \"betawi\",\n",
        "    \"mie\", \"milkshake\", \"cokelat\", \"kulit\", \"mayonaise\", \"patin\", \"cabut\", \"duri\", \"durinya\",\n",
        "    \"sayur\", \"asemnya\", \"empalnya\", \"buntut\", \"warsun\", \"buntutnya\", \"bonggol\", \"bonggolnya\",\n",
        "    \"air\", \"tawar\", \"kerupuk\", \"gendar\", \"mi\", \"jogja\", \"dll\", \"tengkleng\", \"serabi\", \"solo\",\n",
        "    \"sate\", \"maranggi\", \"selad\", \"mendoany\", \"jawa\", \"gudeg\", \"teh\", \"sereh\", \"wedang\", \"jahe\",\n",
        "    \"susu\", \"cendol\", \"liwet\", \"sego\", \"daun\", \"pisang\", \"pakai\", \"lele\", \"buntel\", \"lilit\",\n",
        "    \"roti\", \"bebek\", \"bebeknya\", \"yekaann\", \"masnua\", \"mbak\", \"es\", \"kelapa\", \"gelas\", \"XL\",\n",
        "    \"stelah\", \"rujak\", \"buah\", \"buahnya\", \"bakso\", \"cuanki\", \"kuahnya\", \"isian\", \"martabaknya\",\n",
        "    \"bumbu\", \"martabak\", \"kripik\", \"singkongnya\", \"alpukat\", \"kocoknya\", \"gula\", \"arennya\",\n",
        "    \"kuahnya\", \"baksonya\", \"kejunya\", \"dimsumnya\", \"vegetarian\", \"rotinya\", \"gulungnya\", \"krimnya\",\n",
        "    \"creamy\", \"gejrotnya\", \"kuah\", \"digoreng\", \"kental\", \"ketopraknya\", \"lontong\", \"kerak\", \"cirengnya\",\n",
        "    \"jeruknya\", \"kacangnya\", \"pempeknya\", \"saus\", \"cuko\", \"seblak\", \"bulatnya\", \"salad\", \"sayur\",\n",
        "    \"basonya\", \"rendang\", \"gado\", \"sayurnya\", \"lada\", \"gorengan\", \"gorengannya\", \"Djakarta\", \"paket\",\n",
        "    \"kepiting\", \"padang\", \"dua\", \"ekor\", \"macam-macam\", \"tumisan\", \"usus\", \"kerang\", \"burgernya\",\n",
        "    \"nasinya\", \"kelapa\", \"campurnya\", \"kelapanya\", \"sayuran\", \"sachet\", \"ya\", \"kebabnya\", \"kulit\",\n",
        "    \"doang\", \"lagi\", \"cabenya\", \"paha\", \"atas\", \"bawah\", \"pastelnya\", \"isinya\", \"bakwan\", \"rebonnya\",\n",
        "    \"terinya\", \"lalapannya\", \"yah\", \"udangnya\", \"tiramnya\", \"terong\", \"baladonya\", \"dadar\", \"mas\",\n",
        "    \"mak\", \"nyoss\", \"sukss\", \"kebulinya\", \"potatonya\", \"rempah-rempahnya\", \"jus\", \"jeruk\", \"kue\",\n",
        "    \"rp\", \"ya\", \"hmm\", \"adalah\", \"nya\", \"baliqui\", \"gintung\", \"dong\", \"sih\", \"di\", \"dari\", \"lah\", \"an\", \"oiya\",\n",
        "    \"yekaann\", \"kali\", \"xl\", \"kaula\", \"ribu\", \"is\", \"the\", \"top\", \"nyoss\", \"mah\", \"wkwkwk\", \"ngikan\", \"huhuhu\",\n",
        "    \"guyss\", \"deh\", \"ber\", \"pun\", \"gofood\", \"grabfood\", \"grabcar\", \"haha\", \"karbohidrat\", \"weekend\", \"cuss\",\n",
        "    \"duhh\", \"nan\", \"wkwkk\", \"guys\", \"tu\", \"pejabat\", \"gez\", \"wuuiih\", \"x\", \"mleber\", \"btw\", \"hehe\", \"hahaha\",\n",
        "    \"yahh\", \"kamiaremnya\", \"cincinnya\", \"lah\", \"kg\", \"ih\", \"kok\", \"dua\", \"ribuan\", \"yekan\", \"sist\", \"bro\", \"mba\", \"mas\", \"pak\"\n",
        "]\n",
        "\n",
        "def remove_stopwords(text):\n",
        "  final_text = []\n",
        "  for word in text.split():\n",
        "    if word.strip().lower() not in stopwords:\n",
        "      final_text.append(word.strip().lower())\n",
        "  return \" \".join(final_text)"
      ],
      "metadata": {
        "id": "euLQZeJYJgjR"
      },
      "execution_count": null,
      "outputs": []
    },
    {
      "cell_type": "markdown",
      "source": [
        "Pada kode diatas kami membuat list kata-kata yang tidak memiliki pengaruh terhadap penentuan sentimen dan kami juga membuat fungsi bernama remove_stopwords() yang berfungsi untuk menghapus kata-kata yang terdapat dilist yang telah kami buat."
      ],
      "metadata": {
        "id": "AMsoCdX-QlxY"
      }
    },
    {
      "cell_type": "code",
      "source": [
        "example = \"langganan aku, cuss pada beli, bakso terenak\"\n",
        "print(remove_stopwords(example))"
      ],
      "metadata": {
        "colab": {
          "base_uri": "https://localhost:8080/"
        },
        "id": "ueo4J-8gRwWg",
        "outputId": "f68c46a5-1f2c-4351-89fd-1859a48553f1"
      },
      "execution_count": null,
      "outputs": [
        {
          "output_type": "stream",
          "name": "stdout",
          "text": [
            "langganan aku, pada beli, terenak\n"
          ]
        }
      ]
    },
    {
      "cell_type": "code",
      "source": [
        "df['normalization'] = df['normalization'].apply(lambda x: remove_stopwords(x))"
      ],
      "metadata": {
        "id": "CO_y-4V0R04_"
      },
      "execution_count": null,
      "outputs": []
    },
    {
      "cell_type": "markdown",
      "source": [
        "fungsi remove_stopwords() diterapkan pada kolom 'normalization'."
      ],
      "metadata": {
        "id": "sGfGCF7ERFIE"
      }
    },
    {
      "cell_type": "code",
      "source": [
        "df['reviews'] = df['normalization']\n",
        "df"
      ],
      "metadata": {
        "colab": {
          "base_uri": "https://localhost:8080/",
          "height": 424
        },
        "id": "3TLoGAbcR4vu",
        "outputId": "d582516f-d9d3-45ff-912d-fa3b4a5391a9"
      },
      "execution_count": null,
      "outputs": [
        {
          "output_type": "execute_result",
          "data": {
            "text/plain": [
              "                                                ulasan  sentimen  rating  \\\n",
              "0    Saya baru mencoba minuman dari gerai ini. Minu...    netral     3.0   \n",
              "1    Makanan ini sangat mengecewakan. Rasanya terla...  negative     2.0   \n",
              "2    memiliki cita rasa yang unik. Perpaduan antara...  positive     5.0   \n",
              "3    Saya sangat merekomendasikan makanan ini kepad...  positive     5.0   \n",
              "4    Pelayanan di warung ini cukup ramah dan efisie...    netral     3.0   \n",
              "..                                                 ...       ...     ...   \n",
              "670  Saya datang kesini coba menu ayam goreng telur...    netral     3.0   \n",
              "671  Makanan cukup enak, harga ya lumayan.. Tapi pe...    netral     3.0   \n",
              "672  Rasa makanan gak seenak dulu, atau mungkin kar...    netral     3.0   \n",
              "673  Tidak terlalu spesial, terutama ikan bakarnya....    netral     3.0   \n",
              "674  Makanan enak, sambel gratisnya mantab, sayang ...    netral     3.0   \n",
              "\n",
              "                                            clean_teks  \\\n",
              "0    saya baru mencoba minuman dari gerai ini minum...   \n",
              "1    makanan ini sangat mengecewakan rasanya terlal...   \n",
              "2    memiliki cita rasa yang unik perpaduan antara ...   \n",
              "3    saya sangat merekomendasikan makanan ini kepad...   \n",
              "4    pelayanan di warung ini cukup ramah dan efisie...   \n",
              "..                                                 ...   \n",
              "670  saya datang kesini coba menu ayam goreng telur...   \n",
              "671  makanan cukup enak harga ya lumayan tapi pelay...   \n",
              "672  rasa makanan gak seenak dulu atau mungkin kare...   \n",
              "673  tidak terlalu spesial terutama ikan bakarnya s...   \n",
              "674  makanan enak sambel gratisnya mantab sayang re...   \n",
              "\n",
              "                                         normalization  \\\n",
              "0    baru mencoba gerai pesan segar rasanya lumayan...   \n",
              "1    makanan sangat mengecewakan rasanya terlalu as...   \n",
              "2    memiliki cita rasa unik perpaduan antara rasa ...   \n",
              "3    sangat merekomendasikan makanan kepada anda ya...   \n",
              "4    pelayanan warung cukup ramah efisien waktu tun...   \n",
              "..                                                 ...   \n",
              "670  datang coba menu asin dibalut asin tapi asinny...   \n",
              "671  makanan cukup enak harga lumayan tapi pelayana...   \n",
              "672  rasa makanan tidak enak dahulu atau mungkin ka...   \n",
              "673  tidak terlalu spesial terutama bakarnya pesan ...   \n",
              "674  makanan enak gratisnya mantap kurang perhatian...   \n",
              "\n",
              "                                               reviews  \n",
              "0    baru mencoba gerai pesan segar rasanya lumayan...  \n",
              "1    makanan sangat mengecewakan rasanya terlalu as...  \n",
              "2    memiliki cita rasa unik perpaduan antara rasa ...  \n",
              "3    sangat merekomendasikan makanan kepada anda ya...  \n",
              "4    pelayanan warung cukup ramah efisien waktu tun...  \n",
              "..                                                 ...  \n",
              "670  datang coba menu asin dibalut asin tapi asinny...  \n",
              "671  makanan cukup enak harga lumayan tapi pelayana...  \n",
              "672  rasa makanan tidak enak dahulu atau mungkin ka...  \n",
              "673  tidak terlalu spesial terutama bakarnya pesan ...  \n",
              "674  makanan enak gratisnya mantap kurang perhatian...  \n",
              "\n",
              "[671 rows x 6 columns]"
            ],
            "text/html": [
              "\n",
              "  <div id=\"df-a2243936-8b1f-4fbc-8cbb-29fd46097f32\" class=\"colab-df-container\">\n",
              "    <div>\n",
              "<style scoped>\n",
              "    .dataframe tbody tr th:only-of-type {\n",
              "        vertical-align: middle;\n",
              "    }\n",
              "\n",
              "    .dataframe tbody tr th {\n",
              "        vertical-align: top;\n",
              "    }\n",
              "\n",
              "    .dataframe thead th {\n",
              "        text-align: right;\n",
              "    }\n",
              "</style>\n",
              "<table border=\"1\" class=\"dataframe\">\n",
              "  <thead>\n",
              "    <tr style=\"text-align: right;\">\n",
              "      <th></th>\n",
              "      <th>ulasan</th>\n",
              "      <th>sentimen</th>\n",
              "      <th>rating</th>\n",
              "      <th>clean_teks</th>\n",
              "      <th>normalization</th>\n",
              "      <th>reviews</th>\n",
              "    </tr>\n",
              "  </thead>\n",
              "  <tbody>\n",
              "    <tr>\n",
              "      <th>0</th>\n",
              "      <td>Saya baru mencoba minuman dari gerai ini. Minu...</td>\n",
              "      <td>netral</td>\n",
              "      <td>3.0</td>\n",
              "      <td>saya baru mencoba minuman dari gerai ini minum...</td>\n",
              "      <td>baru mencoba gerai pesan segar rasanya lumayan...</td>\n",
              "      <td>baru mencoba gerai pesan segar rasanya lumayan...</td>\n",
              "    </tr>\n",
              "    <tr>\n",
              "      <th>1</th>\n",
              "      <td>Makanan ini sangat mengecewakan. Rasanya terla...</td>\n",
              "      <td>negative</td>\n",
              "      <td>2.0</td>\n",
              "      <td>makanan ini sangat mengecewakan rasanya terlal...</td>\n",
              "      <td>makanan sangat mengecewakan rasanya terlalu as...</td>\n",
              "      <td>makanan sangat mengecewakan rasanya terlalu as...</td>\n",
              "    </tr>\n",
              "    <tr>\n",
              "      <th>2</th>\n",
              "      <td>memiliki cita rasa yang unik. Perpaduan antara...</td>\n",
              "      <td>positive</td>\n",
              "      <td>5.0</td>\n",
              "      <td>memiliki cita rasa yang unik perpaduan antara ...</td>\n",
              "      <td>memiliki cita rasa unik perpaduan antara rasa ...</td>\n",
              "      <td>memiliki cita rasa unik perpaduan antara rasa ...</td>\n",
              "    </tr>\n",
              "    <tr>\n",
              "      <th>3</th>\n",
              "      <td>Saya sangat merekomendasikan makanan ini kepad...</td>\n",
              "      <td>positive</td>\n",
              "      <td>5.0</td>\n",
              "      <td>saya sangat merekomendasikan makanan ini kepad...</td>\n",
              "      <td>sangat merekomendasikan makanan kepada anda ya...</td>\n",
              "      <td>sangat merekomendasikan makanan kepada anda ya...</td>\n",
              "    </tr>\n",
              "    <tr>\n",
              "      <th>4</th>\n",
              "      <td>Pelayanan di warung ini cukup ramah dan efisie...</td>\n",
              "      <td>netral</td>\n",
              "      <td>3.0</td>\n",
              "      <td>pelayanan di warung ini cukup ramah dan efisie...</td>\n",
              "      <td>pelayanan warung cukup ramah efisien waktu tun...</td>\n",
              "      <td>pelayanan warung cukup ramah efisien waktu tun...</td>\n",
              "    </tr>\n",
              "    <tr>\n",
              "      <th>...</th>\n",
              "      <td>...</td>\n",
              "      <td>...</td>\n",
              "      <td>...</td>\n",
              "      <td>...</td>\n",
              "      <td>...</td>\n",
              "      <td>...</td>\n",
              "    </tr>\n",
              "    <tr>\n",
              "      <th>670</th>\n",
              "      <td>Saya datang kesini coba menu ayam goreng telur...</td>\n",
              "      <td>netral</td>\n",
              "      <td>3.0</td>\n",
              "      <td>saya datang kesini coba menu ayam goreng telur...</td>\n",
              "      <td>datang coba menu asin dibalut asin tapi asinny...</td>\n",
              "      <td>datang coba menu asin dibalut asin tapi asinny...</td>\n",
              "    </tr>\n",
              "    <tr>\n",
              "      <th>671</th>\n",
              "      <td>Makanan cukup enak, harga ya lumayan.. Tapi pe...</td>\n",
              "      <td>netral</td>\n",
              "      <td>3.0</td>\n",
              "      <td>makanan cukup enak harga ya lumayan tapi pelay...</td>\n",
              "      <td>makanan cukup enak harga lumayan tapi pelayana...</td>\n",
              "      <td>makanan cukup enak harga lumayan tapi pelayana...</td>\n",
              "    </tr>\n",
              "    <tr>\n",
              "      <th>672</th>\n",
              "      <td>Rasa makanan gak seenak dulu, atau mungkin kar...</td>\n",
              "      <td>netral</td>\n",
              "      <td>3.0</td>\n",
              "      <td>rasa makanan gak seenak dulu atau mungkin kare...</td>\n",
              "      <td>rasa makanan tidak enak dahulu atau mungkin ka...</td>\n",
              "      <td>rasa makanan tidak enak dahulu atau mungkin ka...</td>\n",
              "    </tr>\n",
              "    <tr>\n",
              "      <th>673</th>\n",
              "      <td>Tidak terlalu spesial, terutama ikan bakarnya....</td>\n",
              "      <td>netral</td>\n",
              "      <td>3.0</td>\n",
              "      <td>tidak terlalu spesial terutama ikan bakarnya s...</td>\n",
              "      <td>tidak terlalu spesial terutama bakarnya pesan ...</td>\n",
              "      <td>tidak terlalu spesial terutama bakarnya pesan ...</td>\n",
              "    </tr>\n",
              "    <tr>\n",
              "      <th>674</th>\n",
              "      <td>Makanan enak, sambel gratisnya mantab, sayang ...</td>\n",
              "      <td>netral</td>\n",
              "      <td>3.0</td>\n",
              "      <td>makanan enak sambel gratisnya mantab sayang re...</td>\n",
              "      <td>makanan enak gratisnya mantap kurang perhatian...</td>\n",
              "      <td>makanan enak gratisnya mantap kurang perhatian...</td>\n",
              "    </tr>\n",
              "  </tbody>\n",
              "</table>\n",
              "<p>671 rows × 6 columns</p>\n",
              "</div>\n",
              "    <div class=\"colab-df-buttons\">\n",
              "\n",
              "  <div class=\"colab-df-container\">\n",
              "    <button class=\"colab-df-convert\" onclick=\"convertToInteractive('df-a2243936-8b1f-4fbc-8cbb-29fd46097f32')\"\n",
              "            title=\"Convert this dataframe to an interactive table.\"\n",
              "            style=\"display:none;\">\n",
              "\n",
              "  <svg xmlns=\"http://www.w3.org/2000/svg\" height=\"24px\" viewBox=\"0 -960 960 960\">\n",
              "    <path d=\"M120-120v-720h720v720H120Zm60-500h600v-160H180v160Zm220 220h160v-160H400v160Zm0 220h160v-160H400v160ZM180-400h160v-160H180v160Zm440 0h160v-160H620v160ZM180-180h160v-160H180v160Zm440 0h160v-160H620v160Z\"/>\n",
              "  </svg>\n",
              "    </button>\n",
              "\n",
              "  <style>\n",
              "    .colab-df-container {\n",
              "      display:flex;\n",
              "      gap: 12px;\n",
              "    }\n",
              "\n",
              "    .colab-df-convert {\n",
              "      background-color: #E8F0FE;\n",
              "      border: none;\n",
              "      border-radius: 50%;\n",
              "      cursor: pointer;\n",
              "      display: none;\n",
              "      fill: #1967D2;\n",
              "      height: 32px;\n",
              "      padding: 0 0 0 0;\n",
              "      width: 32px;\n",
              "    }\n",
              "\n",
              "    .colab-df-convert:hover {\n",
              "      background-color: #E2EBFA;\n",
              "      box-shadow: 0px 1px 2px rgba(60, 64, 67, 0.3), 0px 1px 3px 1px rgba(60, 64, 67, 0.15);\n",
              "      fill: #174EA6;\n",
              "    }\n",
              "\n",
              "    .colab-df-buttons div {\n",
              "      margin-bottom: 4px;\n",
              "    }\n",
              "\n",
              "    [theme=dark] .colab-df-convert {\n",
              "      background-color: #3B4455;\n",
              "      fill: #D2E3FC;\n",
              "    }\n",
              "\n",
              "    [theme=dark] .colab-df-convert:hover {\n",
              "      background-color: #434B5C;\n",
              "      box-shadow: 0px 1px 3px 1px rgba(0, 0, 0, 0.15);\n",
              "      filter: drop-shadow(0px 1px 2px rgba(0, 0, 0, 0.3));\n",
              "      fill: #FFFFFF;\n",
              "    }\n",
              "  </style>\n",
              "\n",
              "    <script>\n",
              "      const buttonEl =\n",
              "        document.querySelector('#df-a2243936-8b1f-4fbc-8cbb-29fd46097f32 button.colab-df-convert');\n",
              "      buttonEl.style.display =\n",
              "        google.colab.kernel.accessAllowed ? 'block' : 'none';\n",
              "\n",
              "      async function convertToInteractive(key) {\n",
              "        const element = document.querySelector('#df-a2243936-8b1f-4fbc-8cbb-29fd46097f32');\n",
              "        const dataTable =\n",
              "          await google.colab.kernel.invokeFunction('convertToInteractive',\n",
              "                                                    [key], {});\n",
              "        if (!dataTable) return;\n",
              "\n",
              "        const docLinkHtml = 'Like what you see? Visit the ' +\n",
              "          '<a target=\"_blank\" href=https://colab.research.google.com/notebooks/data_table.ipynb>data table notebook</a>'\n",
              "          + ' to learn more about interactive tables.';\n",
              "        element.innerHTML = '';\n",
              "        dataTable['output_type'] = 'display_data';\n",
              "        await google.colab.output.renderOutput(dataTable, element);\n",
              "        const docLink = document.createElement('div');\n",
              "        docLink.innerHTML = docLinkHtml;\n",
              "        element.appendChild(docLink);\n",
              "      }\n",
              "    </script>\n",
              "  </div>\n",
              "\n",
              "\n",
              "<div id=\"df-3ea74e26-03be-41f0-b954-89ea049d6114\">\n",
              "  <button class=\"colab-df-quickchart\" onclick=\"quickchart('df-3ea74e26-03be-41f0-b954-89ea049d6114')\"\n",
              "            title=\"Suggest charts\"\n",
              "            style=\"display:none;\">\n",
              "\n",
              "<svg xmlns=\"http://www.w3.org/2000/svg\" height=\"24px\"viewBox=\"0 0 24 24\"\n",
              "     width=\"24px\">\n",
              "    <g>\n",
              "        <path d=\"M19 3H5c-1.1 0-2 .9-2 2v14c0 1.1.9 2 2 2h14c1.1 0 2-.9 2-2V5c0-1.1-.9-2-2-2zM9 17H7v-7h2v7zm4 0h-2V7h2v10zm4 0h-2v-4h2v4z\"/>\n",
              "    </g>\n",
              "</svg>\n",
              "  </button>\n",
              "\n",
              "<style>\n",
              "  .colab-df-quickchart {\n",
              "      --bg-color: #E8F0FE;\n",
              "      --fill-color: #1967D2;\n",
              "      --hover-bg-color: #E2EBFA;\n",
              "      --hover-fill-color: #174EA6;\n",
              "      --disabled-fill-color: #AAA;\n",
              "      --disabled-bg-color: #DDD;\n",
              "  }\n",
              "\n",
              "  [theme=dark] .colab-df-quickchart {\n",
              "      --bg-color: #3B4455;\n",
              "      --fill-color: #D2E3FC;\n",
              "      --hover-bg-color: #434B5C;\n",
              "      --hover-fill-color: #FFFFFF;\n",
              "      --disabled-bg-color: #3B4455;\n",
              "      --disabled-fill-color: #666;\n",
              "  }\n",
              "\n",
              "  .colab-df-quickchart {\n",
              "    background-color: var(--bg-color);\n",
              "    border: none;\n",
              "    border-radius: 50%;\n",
              "    cursor: pointer;\n",
              "    display: none;\n",
              "    fill: var(--fill-color);\n",
              "    height: 32px;\n",
              "    padding: 0;\n",
              "    width: 32px;\n",
              "  }\n",
              "\n",
              "  .colab-df-quickchart:hover {\n",
              "    background-color: var(--hover-bg-color);\n",
              "    box-shadow: 0 1px 2px rgba(60, 64, 67, 0.3), 0 1px 3px 1px rgba(60, 64, 67, 0.15);\n",
              "    fill: var(--button-hover-fill-color);\n",
              "  }\n",
              "\n",
              "  .colab-df-quickchart-complete:disabled,\n",
              "  .colab-df-quickchart-complete:disabled:hover {\n",
              "    background-color: var(--disabled-bg-color);\n",
              "    fill: var(--disabled-fill-color);\n",
              "    box-shadow: none;\n",
              "  }\n",
              "\n",
              "  .colab-df-spinner {\n",
              "    border: 2px solid var(--fill-color);\n",
              "    border-color: transparent;\n",
              "    border-bottom-color: var(--fill-color);\n",
              "    animation:\n",
              "      spin 1s steps(1) infinite;\n",
              "  }\n",
              "\n",
              "  @keyframes spin {\n",
              "    0% {\n",
              "      border-color: transparent;\n",
              "      border-bottom-color: var(--fill-color);\n",
              "      border-left-color: var(--fill-color);\n",
              "    }\n",
              "    20% {\n",
              "      border-color: transparent;\n",
              "      border-left-color: var(--fill-color);\n",
              "      border-top-color: var(--fill-color);\n",
              "    }\n",
              "    30% {\n",
              "      border-color: transparent;\n",
              "      border-left-color: var(--fill-color);\n",
              "      border-top-color: var(--fill-color);\n",
              "      border-right-color: var(--fill-color);\n",
              "    }\n",
              "    40% {\n",
              "      border-color: transparent;\n",
              "      border-right-color: var(--fill-color);\n",
              "      border-top-color: var(--fill-color);\n",
              "    }\n",
              "    60% {\n",
              "      border-color: transparent;\n",
              "      border-right-color: var(--fill-color);\n",
              "    }\n",
              "    80% {\n",
              "      border-color: transparent;\n",
              "      border-right-color: var(--fill-color);\n",
              "      border-bottom-color: var(--fill-color);\n",
              "    }\n",
              "    90% {\n",
              "      border-color: transparent;\n",
              "      border-bottom-color: var(--fill-color);\n",
              "    }\n",
              "  }\n",
              "</style>\n",
              "\n",
              "  <script>\n",
              "    async function quickchart(key) {\n",
              "      const quickchartButtonEl =\n",
              "        document.querySelector('#' + key + ' button');\n",
              "      quickchartButtonEl.disabled = true;  // To prevent multiple clicks.\n",
              "      quickchartButtonEl.classList.add('colab-df-spinner');\n",
              "      try {\n",
              "        const charts = await google.colab.kernel.invokeFunction(\n",
              "            'suggestCharts', [key], {});\n",
              "      } catch (error) {\n",
              "        console.error('Error during call to suggestCharts:', error);\n",
              "      }\n",
              "      quickchartButtonEl.classList.remove('colab-df-spinner');\n",
              "      quickchartButtonEl.classList.add('colab-df-quickchart-complete');\n",
              "    }\n",
              "    (() => {\n",
              "      let quickchartButtonEl =\n",
              "        document.querySelector('#df-3ea74e26-03be-41f0-b954-89ea049d6114 button');\n",
              "      quickchartButtonEl.style.display =\n",
              "        google.colab.kernel.accessAllowed ? 'block' : 'none';\n",
              "    })();\n",
              "  </script>\n",
              "</div>\n",
              "    </div>\n",
              "  </div>\n"
            ]
          },
          "metadata": {},
          "execution_count": 16
        }
      ]
    },
    {
      "cell_type": "markdown",
      "source": [
        "Kemudian, kalimat yang telah diterapkan fungsi remove_stopwords() disimpan pada kolom 'reviews'."
      ],
      "metadata": {
        "id": "IRY1WwPjSDj-"
      }
    },
    {
      "cell_type": "code",
      "source": [
        "data = df[['reviews','sentimen']]\n",
        "data"
      ],
      "metadata": {
        "colab": {
          "base_uri": "https://localhost:8080/",
          "height": 424
        },
        "id": "7BY1Fm4lR9tx",
        "outputId": "0a840590-9240-4153-b50b-12a871878a54"
      },
      "execution_count": null,
      "outputs": [
        {
          "output_type": "execute_result",
          "data": {
            "text/plain": [
              "                                               reviews  sentimen\n",
              "0    baru mencoba gerai pesan segar rasanya lumayan...    netral\n",
              "1    makanan sangat mengecewakan rasanya terlalu as...  negative\n",
              "2    memiliki cita rasa unik perpaduan antara rasa ...  positive\n",
              "3    sangat merekomendasikan makanan kepada anda ya...  positive\n",
              "4    pelayanan warung cukup ramah efisien waktu tun...    netral\n",
              "..                                                 ...       ...\n",
              "670  datang coba menu asin dibalut asin tapi asinny...    netral\n",
              "671  makanan cukup enak harga lumayan tapi pelayana...    netral\n",
              "672  rasa makanan tidak enak dahulu atau mungkin ka...    netral\n",
              "673  tidak terlalu spesial terutama bakarnya pesan ...    netral\n",
              "674  makanan enak gratisnya mantap kurang perhatian...    netral\n",
              "\n",
              "[671 rows x 2 columns]"
            ],
            "text/html": [
              "\n",
              "  <div id=\"df-237f44a3-e3d9-4599-b48d-8b9861a038ca\" class=\"colab-df-container\">\n",
              "    <div>\n",
              "<style scoped>\n",
              "    .dataframe tbody tr th:only-of-type {\n",
              "        vertical-align: middle;\n",
              "    }\n",
              "\n",
              "    .dataframe tbody tr th {\n",
              "        vertical-align: top;\n",
              "    }\n",
              "\n",
              "    .dataframe thead th {\n",
              "        text-align: right;\n",
              "    }\n",
              "</style>\n",
              "<table border=\"1\" class=\"dataframe\">\n",
              "  <thead>\n",
              "    <tr style=\"text-align: right;\">\n",
              "      <th></th>\n",
              "      <th>reviews</th>\n",
              "      <th>sentimen</th>\n",
              "    </tr>\n",
              "  </thead>\n",
              "  <tbody>\n",
              "    <tr>\n",
              "      <th>0</th>\n",
              "      <td>baru mencoba gerai pesan segar rasanya lumayan...</td>\n",
              "      <td>netral</td>\n",
              "    </tr>\n",
              "    <tr>\n",
              "      <th>1</th>\n",
              "      <td>makanan sangat mengecewakan rasanya terlalu as...</td>\n",
              "      <td>negative</td>\n",
              "    </tr>\n",
              "    <tr>\n",
              "      <th>2</th>\n",
              "      <td>memiliki cita rasa unik perpaduan antara rasa ...</td>\n",
              "      <td>positive</td>\n",
              "    </tr>\n",
              "    <tr>\n",
              "      <th>3</th>\n",
              "      <td>sangat merekomendasikan makanan kepada anda ya...</td>\n",
              "      <td>positive</td>\n",
              "    </tr>\n",
              "    <tr>\n",
              "      <th>4</th>\n",
              "      <td>pelayanan warung cukup ramah efisien waktu tun...</td>\n",
              "      <td>netral</td>\n",
              "    </tr>\n",
              "    <tr>\n",
              "      <th>...</th>\n",
              "      <td>...</td>\n",
              "      <td>...</td>\n",
              "    </tr>\n",
              "    <tr>\n",
              "      <th>670</th>\n",
              "      <td>datang coba menu asin dibalut asin tapi asinny...</td>\n",
              "      <td>netral</td>\n",
              "    </tr>\n",
              "    <tr>\n",
              "      <th>671</th>\n",
              "      <td>makanan cukup enak harga lumayan tapi pelayana...</td>\n",
              "      <td>netral</td>\n",
              "    </tr>\n",
              "    <tr>\n",
              "      <th>672</th>\n",
              "      <td>rasa makanan tidak enak dahulu atau mungkin ka...</td>\n",
              "      <td>netral</td>\n",
              "    </tr>\n",
              "    <tr>\n",
              "      <th>673</th>\n",
              "      <td>tidak terlalu spesial terutama bakarnya pesan ...</td>\n",
              "      <td>netral</td>\n",
              "    </tr>\n",
              "    <tr>\n",
              "      <th>674</th>\n",
              "      <td>makanan enak gratisnya mantap kurang perhatian...</td>\n",
              "      <td>netral</td>\n",
              "    </tr>\n",
              "  </tbody>\n",
              "</table>\n",
              "<p>671 rows × 2 columns</p>\n",
              "</div>\n",
              "    <div class=\"colab-df-buttons\">\n",
              "\n",
              "  <div class=\"colab-df-container\">\n",
              "    <button class=\"colab-df-convert\" onclick=\"convertToInteractive('df-237f44a3-e3d9-4599-b48d-8b9861a038ca')\"\n",
              "            title=\"Convert this dataframe to an interactive table.\"\n",
              "            style=\"display:none;\">\n",
              "\n",
              "  <svg xmlns=\"http://www.w3.org/2000/svg\" height=\"24px\" viewBox=\"0 -960 960 960\">\n",
              "    <path d=\"M120-120v-720h720v720H120Zm60-500h600v-160H180v160Zm220 220h160v-160H400v160Zm0 220h160v-160H400v160ZM180-400h160v-160H180v160Zm440 0h160v-160H620v160ZM180-180h160v-160H180v160Zm440 0h160v-160H620v160Z\"/>\n",
              "  </svg>\n",
              "    </button>\n",
              "\n",
              "  <style>\n",
              "    .colab-df-container {\n",
              "      display:flex;\n",
              "      gap: 12px;\n",
              "    }\n",
              "\n",
              "    .colab-df-convert {\n",
              "      background-color: #E8F0FE;\n",
              "      border: none;\n",
              "      border-radius: 50%;\n",
              "      cursor: pointer;\n",
              "      display: none;\n",
              "      fill: #1967D2;\n",
              "      height: 32px;\n",
              "      padding: 0 0 0 0;\n",
              "      width: 32px;\n",
              "    }\n",
              "\n",
              "    .colab-df-convert:hover {\n",
              "      background-color: #E2EBFA;\n",
              "      box-shadow: 0px 1px 2px rgba(60, 64, 67, 0.3), 0px 1px 3px 1px rgba(60, 64, 67, 0.15);\n",
              "      fill: #174EA6;\n",
              "    }\n",
              "\n",
              "    .colab-df-buttons div {\n",
              "      margin-bottom: 4px;\n",
              "    }\n",
              "\n",
              "    [theme=dark] .colab-df-convert {\n",
              "      background-color: #3B4455;\n",
              "      fill: #D2E3FC;\n",
              "    }\n",
              "\n",
              "    [theme=dark] .colab-df-convert:hover {\n",
              "      background-color: #434B5C;\n",
              "      box-shadow: 0px 1px 3px 1px rgba(0, 0, 0, 0.15);\n",
              "      filter: drop-shadow(0px 1px 2px rgba(0, 0, 0, 0.3));\n",
              "      fill: #FFFFFF;\n",
              "    }\n",
              "  </style>\n",
              "\n",
              "    <script>\n",
              "      const buttonEl =\n",
              "        document.querySelector('#df-237f44a3-e3d9-4599-b48d-8b9861a038ca button.colab-df-convert');\n",
              "      buttonEl.style.display =\n",
              "        google.colab.kernel.accessAllowed ? 'block' : 'none';\n",
              "\n",
              "      async function convertToInteractive(key) {\n",
              "        const element = document.querySelector('#df-237f44a3-e3d9-4599-b48d-8b9861a038ca');\n",
              "        const dataTable =\n",
              "          await google.colab.kernel.invokeFunction('convertToInteractive',\n",
              "                                                    [key], {});\n",
              "        if (!dataTable) return;\n",
              "\n",
              "        const docLinkHtml = 'Like what you see? Visit the ' +\n",
              "          '<a target=\"_blank\" href=https://colab.research.google.com/notebooks/data_table.ipynb>data table notebook</a>'\n",
              "          + ' to learn more about interactive tables.';\n",
              "        element.innerHTML = '';\n",
              "        dataTable['output_type'] = 'display_data';\n",
              "        await google.colab.output.renderOutput(dataTable, element);\n",
              "        const docLink = document.createElement('div');\n",
              "        docLink.innerHTML = docLinkHtml;\n",
              "        element.appendChild(docLink);\n",
              "      }\n",
              "    </script>\n",
              "  </div>\n",
              "\n",
              "\n",
              "<div id=\"df-64b884ac-89c3-43e1-8b4d-2176f1bcdb64\">\n",
              "  <button class=\"colab-df-quickchart\" onclick=\"quickchart('df-64b884ac-89c3-43e1-8b4d-2176f1bcdb64')\"\n",
              "            title=\"Suggest charts\"\n",
              "            style=\"display:none;\">\n",
              "\n",
              "<svg xmlns=\"http://www.w3.org/2000/svg\" height=\"24px\"viewBox=\"0 0 24 24\"\n",
              "     width=\"24px\">\n",
              "    <g>\n",
              "        <path d=\"M19 3H5c-1.1 0-2 .9-2 2v14c0 1.1.9 2 2 2h14c1.1 0 2-.9 2-2V5c0-1.1-.9-2-2-2zM9 17H7v-7h2v7zm4 0h-2V7h2v10zm4 0h-2v-4h2v4z\"/>\n",
              "    </g>\n",
              "</svg>\n",
              "  </button>\n",
              "\n",
              "<style>\n",
              "  .colab-df-quickchart {\n",
              "      --bg-color: #E8F0FE;\n",
              "      --fill-color: #1967D2;\n",
              "      --hover-bg-color: #E2EBFA;\n",
              "      --hover-fill-color: #174EA6;\n",
              "      --disabled-fill-color: #AAA;\n",
              "      --disabled-bg-color: #DDD;\n",
              "  }\n",
              "\n",
              "  [theme=dark] .colab-df-quickchart {\n",
              "      --bg-color: #3B4455;\n",
              "      --fill-color: #D2E3FC;\n",
              "      --hover-bg-color: #434B5C;\n",
              "      --hover-fill-color: #FFFFFF;\n",
              "      --disabled-bg-color: #3B4455;\n",
              "      --disabled-fill-color: #666;\n",
              "  }\n",
              "\n",
              "  .colab-df-quickchart {\n",
              "    background-color: var(--bg-color);\n",
              "    border: none;\n",
              "    border-radius: 50%;\n",
              "    cursor: pointer;\n",
              "    display: none;\n",
              "    fill: var(--fill-color);\n",
              "    height: 32px;\n",
              "    padding: 0;\n",
              "    width: 32px;\n",
              "  }\n",
              "\n",
              "  .colab-df-quickchart:hover {\n",
              "    background-color: var(--hover-bg-color);\n",
              "    box-shadow: 0 1px 2px rgba(60, 64, 67, 0.3), 0 1px 3px 1px rgba(60, 64, 67, 0.15);\n",
              "    fill: var(--button-hover-fill-color);\n",
              "  }\n",
              "\n",
              "  .colab-df-quickchart-complete:disabled,\n",
              "  .colab-df-quickchart-complete:disabled:hover {\n",
              "    background-color: var(--disabled-bg-color);\n",
              "    fill: var(--disabled-fill-color);\n",
              "    box-shadow: none;\n",
              "  }\n",
              "\n",
              "  .colab-df-spinner {\n",
              "    border: 2px solid var(--fill-color);\n",
              "    border-color: transparent;\n",
              "    border-bottom-color: var(--fill-color);\n",
              "    animation:\n",
              "      spin 1s steps(1) infinite;\n",
              "  }\n",
              "\n",
              "  @keyframes spin {\n",
              "    0% {\n",
              "      border-color: transparent;\n",
              "      border-bottom-color: var(--fill-color);\n",
              "      border-left-color: var(--fill-color);\n",
              "    }\n",
              "    20% {\n",
              "      border-color: transparent;\n",
              "      border-left-color: var(--fill-color);\n",
              "      border-top-color: var(--fill-color);\n",
              "    }\n",
              "    30% {\n",
              "      border-color: transparent;\n",
              "      border-left-color: var(--fill-color);\n",
              "      border-top-color: var(--fill-color);\n",
              "      border-right-color: var(--fill-color);\n",
              "    }\n",
              "    40% {\n",
              "      border-color: transparent;\n",
              "      border-right-color: var(--fill-color);\n",
              "      border-top-color: var(--fill-color);\n",
              "    }\n",
              "    60% {\n",
              "      border-color: transparent;\n",
              "      border-right-color: var(--fill-color);\n",
              "    }\n",
              "    80% {\n",
              "      border-color: transparent;\n",
              "      border-right-color: var(--fill-color);\n",
              "      border-bottom-color: var(--fill-color);\n",
              "    }\n",
              "    90% {\n",
              "      border-color: transparent;\n",
              "      border-bottom-color: var(--fill-color);\n",
              "    }\n",
              "  }\n",
              "</style>\n",
              "\n",
              "  <script>\n",
              "    async function quickchart(key) {\n",
              "      const quickchartButtonEl =\n",
              "        document.querySelector('#' + key + ' button');\n",
              "      quickchartButtonEl.disabled = true;  // To prevent multiple clicks.\n",
              "      quickchartButtonEl.classList.add('colab-df-spinner');\n",
              "      try {\n",
              "        const charts = await google.colab.kernel.invokeFunction(\n",
              "            'suggestCharts', [key], {});\n",
              "      } catch (error) {\n",
              "        console.error('Error during call to suggestCharts:', error);\n",
              "      }\n",
              "      quickchartButtonEl.classList.remove('colab-df-spinner');\n",
              "      quickchartButtonEl.classList.add('colab-df-quickchart-complete');\n",
              "    }\n",
              "    (() => {\n",
              "      let quickchartButtonEl =\n",
              "        document.querySelector('#df-64b884ac-89c3-43e1-8b4d-2176f1bcdb64 button');\n",
              "      quickchartButtonEl.style.display =\n",
              "        google.colab.kernel.accessAllowed ? 'block' : 'none';\n",
              "    })();\n",
              "  </script>\n",
              "</div>\n",
              "    </div>\n",
              "  </div>\n"
            ]
          },
          "metadata": {},
          "execution_count": 17
        }
      ]
    },
    {
      "cell_type": "markdown",
      "source": [
        "selanjutnya akan dipilih kolom yang diperlukan untuk dilakukan analisis sentimen, dimana pada kasus ini yang kami perlukan hanya kolom 'reviews' dan 'sentimen'."
      ],
      "metadata": {
        "id": "SB6xO9bBSXVr"
      }
    },
    {
      "cell_type": "markdown",
      "source": [
        "## Split Datasets"
      ],
      "metadata": {
        "id": "ywtHSNYTWq5f"
      }
    },
    {
      "cell_type": "code",
      "source": [
        "x_data = df['reviews']\n",
        "\n",
        "new_idx_label = {\n",
        "    'negative':0,\n",
        "    'netral':1,\n",
        "    'positive':2,\n",
        "}\n",
        "y_data = df['sentimen'].map(new_idx_label)\n",
        "print(x_data, y_data)"
      ],
      "metadata": {
        "id": "qpEjeIKwWuD1",
        "colab": {
          "base_uri": "https://localhost:8080/"
        },
        "outputId": "f34b5b2b-e1e0-4bce-f4fe-a71519f66b35"
      },
      "execution_count": null,
      "outputs": [
        {
          "output_type": "stream",
          "name": "stdout",
          "text": [
            "0      baru mencoba gerai pesan segar rasanya lumayan...\n",
            "1      makanan sangat mengecewakan rasanya terlalu as...\n",
            "2      memiliki cita rasa unik perpaduan antara rasa ...\n",
            "3      sangat merekomendasikan makanan kepada anda ya...\n",
            "4      pelayanan warung cukup ramah efisien waktu tun...\n",
            "                             ...                        \n",
            "670    datang coba menu asin dibalut asin tapi asinny...\n",
            "671    makanan cukup enak harga lumayan tapi pelayana...\n",
            "672    rasa makanan tidak enak dahulu atau mungkin ka...\n",
            "673    tidak terlalu spesial terutama bakarnya pesan ...\n",
            "674    makanan enak gratisnya mantap kurang perhatian...\n",
            "Name: reviews, Length: 671, dtype: object 0      1\n",
            "1      0\n",
            "2      2\n",
            "3      2\n",
            "4      1\n",
            "      ..\n",
            "670    1\n",
            "671    1\n",
            "672    1\n",
            "673    1\n",
            "674    1\n",
            "Name: sentimen, Length: 671, dtype: int64\n"
          ]
        }
      ]
    },
    {
      "cell_type": "markdown",
      "source": [
        "Kemudian kami memetakan label sentimen (positive, netral, negative) ke dalam angka (0,1,2)"
      ],
      "metadata": {
        "id": "-dsbcgj-Hqjd"
      }
    },
    {
      "cell_type": "code",
      "source": [
        "x_train, x_val, y_train, y_val = train_test_split(\n",
        "    x_data,\n",
        "    y_data,\n",
        "    stratify=y_data,\n",
        "    test_size=0.2,\n",
        "    random_state=42\n",
        ")"
      ],
      "metadata": {
        "id": "0RVes-pRSOwn"
      },
      "execution_count": null,
      "outputs": []
    },
    {
      "cell_type": "markdown",
      "source": [
        "Selanjutnya kami membagi datasets dimana sebanyak 20% dari data akan digunakan sebagai set validasi, sementara 80% akan digunakan sebagai set pelatihan."
      ],
      "metadata": {
        "id": "VfcWY9EXIsYK"
      }
    },
    {
      "cell_type": "markdown",
      "source": [
        "## Tokenizing"
      ],
      "metadata": {
        "id": "ZM3iWUJiqYTM"
      }
    },
    {
      "cell_type": "markdown",
      "source": [
        "kemudian kami melakukan penghitungan panjang maksimum dalam sebuah kata dari data pelatihan dan data validasi. lalu memilih kata yang lebih besar atau yang lebih panjang untuk penggunaan model."
      ],
      "metadata": {
        "id": "LzRYa3TyKrrZ"
      }
    },
    {
      "cell_type": "code",
      "source": [
        "maxlen_train = x_train.map(\n",
        "    lambda x: len(x.split())\n",
        ")\n",
        "\n",
        "# In Val Dataset\n",
        "maxlen_val = x_val.map(\n",
        "    lambda x: len(x.split())\n",
        ")\n",
        "\n",
        "maxlen = maxlen_train.max()\n",
        "\n",
        "if (maxlen_train.max() < maxlen_val.max()):\n",
        "    maxlen = maxlen_val.max()\n",
        "\n",
        "print(maxlen)"
      ],
      "metadata": {
        "colab": {
          "base_uri": "https://localhost:8080/"
        },
        "id": "q3oLAwPES9zu",
        "outputId": "eea907bb-b3c9-4f2b-eb0c-9973343dce25"
      },
      "execution_count": null,
      "outputs": [
        {
          "output_type": "stream",
          "name": "stdout",
          "text": [
            "75\n"
          ]
        }
      ]
    },
    {
      "cell_type": "markdown",
      "source": [
        "lalu dilakukan tokenizing dengan panjang kata maksimum, selanjutnya mengonversi teks pelatihan ke indeks, dan terakhir mencetak jumlah kata yang unik."
      ],
      "metadata": {
        "id": "dBSBuLMAOJqK"
      }
    },
    {
      "cell_type": "code",
      "source": [
        "tokenizer = Tokenizer(\n",
        "    num_words=maxlen,\n",
        "    oov_token='<OOV>'\n",
        ")\n",
        "tokenizer.fit_on_texts(x_train.values)\n",
        "word_index = tokenizer.word_index\n",
        "print(len(word_index))"
      ],
      "metadata": {
        "colab": {
          "base_uri": "https://localhost:8080/"
        },
        "id": "iXoIB6meTArd",
        "outputId": "82a098a0-d5c9-4880-bead-0163b682483f"
      },
      "execution_count": null,
      "outputs": [
        {
          "output_type": "stream",
          "name": "stdout",
          "text": [
            "1638\n"
          ]
        }
      ]
    },
    {
      "cell_type": "markdown",
      "source": [
        "selanjutnya membuat urutan token, melakukan padding pada data pelatihan dan data validasi dengan panjang maksimum, dengan menggunakan tokenizer sebelumnya dengan ukuran vokabuler 10,000 dan ukuran embedding 32."
      ],
      "metadata": {
        "id": "eITRml07Ok-Y"
      }
    },
    {
      "cell_type": "code",
      "source": [
        "vocab_size = 10000\n",
        "embed_size = 32\n",
        "padding_type = 'post'\n",
        "\n",
        "x_train_sequences = tokenizer.texts_to_sequences(x_train)\n",
        "x_val_sequences = tokenizer.texts_to_sequences(x_val)\n",
        "\n",
        "x_train_pad = pad_sequences(\n",
        "    x_train_sequences,\n",
        "    padding=padding_type,\n",
        "    maxlen=maxlen\n",
        ")\n",
        "\n",
        "x_val_pad = pad_sequences(\n",
        "    x_val_sequences,\n",
        "    padding=padding_type,\n",
        "    maxlen=maxlen\n",
        ")"
      ],
      "metadata": {
        "id": "V0D7DMeCTSKS"
      },
      "execution_count": null,
      "outputs": []
    },
    {
      "cell_type": "markdown",
      "source": [
        "\n",
        "selanjutnya melakukan konversi teks ke urutan token, melakukan padding pada teks uji menggunakan tokenizer sebelumnya dengan panjang maksimum, dan menampilkan hasil dalam bentuk urutan token yang dipadatkan."
      ],
      "metadata": {
        "id": "DzLJehq6PQco"
      }
    },
    {
      "cell_type": "code",
      "source": [
        "text = \"makanan ini sangat enak dan bergizi saya suka dan bakal menjadi langganan\"\n",
        "result = tokenizer.texts_to_sequences([text])\n",
        "print(result)\n",
        "test_pad = pad_sequences(\n",
        "    tokenizer.texts_to_sequences([text]),\n",
        "    padding=padding_type,\n",
        "    maxlen=maxlen\n",
        ")\n",
        "print(len(test_pad))\n",
        "print(test_pad);"
      ],
      "metadata": {
        "colab": {
          "base_uri": "https://localhost:8080/"
        },
        "id": "UcRQF1AqTV3E",
        "outputId": "8f228cf6-c5f1-4fff-8c53-765e73c2e9d0"
      },
      "execution_count": null,
      "outputs": [
        {
          "output_type": "stream",
          "name": "stdout",
          "text": [
            "[[13, 1, 12, 3, 1, 1, 1, 55, 1, 1, 1, 1]]\n",
            "1\n",
            "[[13  1 12  3  1  1  1 55  1  1  1  1  0  0  0  0  0  0  0  0  0  0  0  0\n",
            "   0  0  0  0  0  0  0  0  0  0  0  0  0  0  0  0  0  0  0  0  0  0  0  0\n",
            "   0  0  0  0  0  0  0  0  0  0  0  0  0  0  0  0  0  0  0  0  0  0  0  0\n",
            "   0  0  0]]\n"
          ]
        }
      ]
    },
    {
      "cell_type": "markdown",
      "source": [
        "## Callback option"
      ],
      "metadata": {
        "id": "NRzMt2AkWyaF"
      }
    },
    {
      "cell_type": "code",
      "source": [
        "class callback_acc(tf.keras.callbacks.Callback):\n",
        "  def on_epoch_end(self, epoch, logs={}):\n",
        "    if(logs.get('acc') > 0.995 or logs.get('val_acc') > 0.995):\n",
        "      self.model.stop_training = True\n",
        "\n",
        "callback_acc = callback_acc()\n",
        "callback_es = tf.keras.callbacks.EarlyStopping(monitor='val_acc', restore_best_weights=True, patience=20)"
      ],
      "metadata": {
        "id": "IjeG3ZSsW6DV"
      },
      "execution_count": null,
      "outputs": []
    },
    {
      "cell_type": "markdown",
      "source": [
        "Kode diatas merupakan callback yang berfungsi untuk menghentikan pelatihan model neural network jika akurasi pada data pelatihan (acc) atau akurasi pada data validasi (val_acc) mencapai nilai 0.995 atau lebih. Selain itu, kami juga menggunakan callback EarlyStopping untuk menghentikan pelatihan jika tidak terjadi peningkatan pada akurasi data validasi setelah 20 epoch berturut-turut."
      ],
      "metadata": {
        "id": "ae8Y2vl3Gk0_"
      }
    },
    {
      "cell_type": "markdown",
      "source": [
        "## Modeling"
      ],
      "metadata": {
        "id": "pRQlcZLkWud5"
      }
    },
    {
      "cell_type": "markdown",
      "source": [
        "Selanjutnya kami Membangun model neural network menggunakan lapisan embedding, global average pooling, dan beberapa lapisan Dense dengan fungsi aktivasi untuk klasifikasi tiga kelas. Output terakhir menggunakan fungsi aktivasi softmax dengan tiga kelas dengan hasil total parameter adalah 409,079."
      ],
      "metadata": {
        "id": "mhPb_TXmPy4e"
      }
    },
    {
      "cell_type": "code",
      "source": [
        "model = tf.keras.Sequential([\n",
        "    tf.keras.layers.Embedding(vocab_size, embed_size, input_length=maxlen),\n",
        "    tf.keras.layers.GlobalAveragePooling1D(),\n",
        "    tf.keras.layers.Dense(500, activation='relu'),\n",
        "    tf.keras.layers.Dense(128, activation='relu'),\n",
        "    tf.keras.layers.Dense(64, activation='relu'),\n",
        "    tf.keras.layers.Dense(3, activation='softmax')\n",
        "])\n",
        "\n",
        "model.summary()"
      ],
      "metadata": {
        "id": "KVobz4sCWxpB",
        "colab": {
          "base_uri": "https://localhost:8080/"
        },
        "outputId": "2758e914-a82b-4e54-9adb-ec19d7b16578"
      },
      "execution_count": null,
      "outputs": [
        {
          "output_type": "stream",
          "name": "stdout",
          "text": [
            "Model: \"sequential\"\n",
            "_________________________________________________________________\n",
            " Layer (type)                Output Shape              Param #   \n",
            "=================================================================\n",
            " embedding (Embedding)       (None, 75, 32)            320000    \n",
            "                                                                 \n",
            " global_average_pooling1d (  (None, 32)                0         \n",
            " GlobalAveragePooling1D)                                         \n",
            "                                                                 \n",
            " dense (Dense)               (None, 500)               16500     \n",
            "                                                                 \n",
            " dense_1 (Dense)             (None, 128)               64128     \n",
            "                                                                 \n",
            " dense_2 (Dense)             (None, 64)                8256      \n",
            "                                                                 \n",
            " dense_3 (Dense)             (None, 3)                 195       \n",
            "                                                                 \n",
            "=================================================================\n",
            "Total params: 409079 (1.56 MB)\n",
            "Trainable params: 409079 (1.56 MB)\n",
            "Non-trainable params: 0 (0.00 Byte)\n",
            "_________________________________________________________________\n"
          ]
        }
      ]
    },
    {
      "cell_type": "markdown",
      "source": [
        "Selanjutnya model dikompilasi dengan fungsi kerugian sparse categorical crossentropy, pengoptimal Adam dengan learning rate sebesar 0.0001, dan metrik akurasi."
      ],
      "metadata": {
        "id": "NIZ3u0OGQgLL"
      }
    },
    {
      "cell_type": "code",
      "source": [
        "model.compile(\n",
        "    loss='sparse_categorical_crossentropy',\n",
        "    optimizer=tf.keras.optimizers.Adam(learning_rate=0.0001),\n",
        "    metrics=['acc']\n",
        ")"
      ],
      "metadata": {
        "id": "fCabdOcLW4FB"
      },
      "execution_count": null,
      "outputs": []
    },
    {
      "cell_type": "markdown",
      "source": [
        "Model dilatih selama 100 epoch pada data pelatihan dan dievaluasi pada data validasi. Peningkatan akurasi terjadi pada epoch ke 62 dengan akurasi validasi sekitar 71.85%. Callback digunakan untuk pemantauan dan penghentian."
      ],
      "metadata": {
        "id": "ZTdCJBF9RBHl"
      }
    },
    {
      "cell_type": "code",
      "source": [
        "history = model.fit(\n",
        "    x_train_pad,\n",
        "    y_train.values,\n",
        "    epochs=100,\n",
        "    batch_size=16,\n",
        "    validation_data=(x_val_pad, y_val.values),\n",
        "    callbacks=[callback_acc, callback_es],\n",
        "    verbose=1\n",
        ")"
      ],
      "metadata": {
        "colab": {
          "base_uri": "https://localhost:8080/"
        },
        "id": "yglLpFQ2WpMp",
        "outputId": "5048d8ed-8332-4c03-a40a-c5fe728dc789"
      },
      "execution_count": null,
      "outputs": [
        {
          "output_type": "stream",
          "name": "stdout",
          "text": [
            "Epoch 1/100\n",
            "34/34 [==============================] - 5s 80ms/step - loss: 1.0991 - acc: 0.3340 - val_loss: 1.0986 - val_acc: 0.3333\n",
            "Epoch 2/100\n",
            "34/34 [==============================] - 1s 18ms/step - loss: 1.0986 - acc: 0.3340 - val_loss: 1.0986 - val_acc: 0.3333\n",
            "Epoch 3/100\n",
            "34/34 [==============================] - 0s 14ms/step - loss: 1.0985 - acc: 0.3358 - val_loss: 1.0986 - val_acc: 0.3556\n",
            "Epoch 4/100\n",
            "34/34 [==============================] - 0s 14ms/step - loss: 1.0985 - acc: 0.3396 - val_loss: 1.0986 - val_acc: 0.4444\n",
            "Epoch 5/100\n",
            "34/34 [==============================] - 1s 20ms/step - loss: 1.0982 - acc: 0.4011 - val_loss: 1.0986 - val_acc: 0.3407\n",
            "Epoch 6/100\n",
            "34/34 [==============================] - 0s 13ms/step - loss: 1.0981 - acc: 0.3489 - val_loss: 1.0986 - val_acc: 0.3259\n",
            "Epoch 7/100\n",
            "34/34 [==============================] - 0s 5ms/step - loss: 1.0980 - acc: 0.3414 - val_loss: 1.0985 - val_acc: 0.3259\n",
            "Epoch 8/100\n",
            "34/34 [==============================] - 0s 5ms/step - loss: 1.0974 - acc: 0.3657 - val_loss: 1.0984 - val_acc: 0.3407\n",
            "Epoch 9/100\n",
            "34/34 [==============================] - 0s 9ms/step - loss: 1.0971 - acc: 0.3769 - val_loss: 1.0983 - val_acc: 0.3333\n",
            "Epoch 10/100\n",
            "34/34 [==============================] - 0s 5ms/step - loss: 1.0965 - acc: 0.3582 - val_loss: 1.0980 - val_acc: 0.3926\n",
            "Epoch 11/100\n",
            "34/34 [==============================] - 0s 5ms/step - loss: 1.0961 - acc: 0.4160 - val_loss: 1.0978 - val_acc: 0.4741\n",
            "Epoch 12/100\n",
            "34/34 [==============================] - 0s 5ms/step - loss: 1.0970 - acc: 0.3955 - val_loss: 1.0972 - val_acc: 0.3407\n",
            "Epoch 13/100\n",
            "34/34 [==============================] - 0s 10ms/step - loss: 1.0944 - acc: 0.4104 - val_loss: 1.0966 - val_acc: 0.4148\n",
            "Epoch 14/100\n",
            "34/34 [==============================] - 0s 9ms/step - loss: 1.0928 - acc: 0.4496 - val_loss: 1.0956 - val_acc: 0.4000\n",
            "Epoch 15/100\n",
            "34/34 [==============================] - 0s 8ms/step - loss: 1.0913 - acc: 0.4291 - val_loss: 1.0940 - val_acc: 0.3556\n",
            "Epoch 16/100\n",
            "34/34 [==============================] - 0s 8ms/step - loss: 1.0880 - acc: 0.4384 - val_loss: 1.0915 - val_acc: 0.4815\n",
            "Epoch 17/100\n",
            "34/34 [==============================] - 0s 8ms/step - loss: 1.0839 - acc: 0.5970 - val_loss: 1.0876 - val_acc: 0.6444\n",
            "Epoch 18/100\n",
            "34/34 [==============================] - 1s 15ms/step - loss: 1.0790 - acc: 0.5765 - val_loss: 1.0826 - val_acc: 0.5185\n",
            "Epoch 19/100\n",
            "34/34 [==============================] - 1s 15ms/step - loss: 1.0705 - acc: 0.5914 - val_loss: 1.0760 - val_acc: 0.4296\n",
            "Epoch 20/100\n",
            "34/34 [==============================] - 0s 7ms/step - loss: 1.0606 - acc: 0.5784 - val_loss: 1.0667 - val_acc: 0.5926\n",
            "Epoch 21/100\n",
            "34/34 [==============================] - 0s 13ms/step - loss: 1.0480 - acc: 0.5989 - val_loss: 1.0533 - val_acc: 0.6370\n",
            "Epoch 22/100\n",
            "34/34 [==============================] - 0s 11ms/step - loss: 1.0312 - acc: 0.5821 - val_loss: 1.0387 - val_acc: 0.6667\n",
            "Epoch 23/100\n",
            "34/34 [==============================] - 0s 5ms/step - loss: 1.0083 - acc: 0.6679 - val_loss: 1.0187 - val_acc: 0.6296\n",
            "Epoch 24/100\n",
            "34/34 [==============================] - 0s 9ms/step - loss: 0.9880 - acc: 0.6063 - val_loss: 0.9961 - val_acc: 0.6519\n",
            "Epoch 25/100\n",
            "34/34 [==============================] - 0s 10ms/step - loss: 0.9517 - acc: 0.7164 - val_loss: 0.9687 - val_acc: 0.6148\n",
            "Epoch 26/100\n",
            "34/34 [==============================] - 0s 5ms/step - loss: 0.9183 - acc: 0.6660 - val_loss: 0.9481 - val_acc: 0.6148\n",
            "Epoch 27/100\n",
            "34/34 [==============================] - 0s 9ms/step - loss: 0.8913 - acc: 0.6810 - val_loss: 0.9333 - val_acc: 0.6148\n",
            "Epoch 28/100\n",
            "34/34 [==============================] - 0s 5ms/step - loss: 0.8537 - acc: 0.6418 - val_loss: 0.9061 - val_acc: 0.5852\n",
            "Epoch 29/100\n",
            "34/34 [==============================] - 0s 5ms/step - loss: 0.8353 - acc: 0.6828 - val_loss: 0.8815 - val_acc: 0.6222\n",
            "Epoch 30/100\n",
            "34/34 [==============================] - 0s 5ms/step - loss: 0.8050 - acc: 0.7201 - val_loss: 0.8702 - val_acc: 0.6148\n",
            "Epoch 31/100\n",
            "34/34 [==============================] - 0s 5ms/step - loss: 0.7833 - acc: 0.6996 - val_loss: 0.8912 - val_acc: 0.6000\n",
            "Epoch 32/100\n",
            "34/34 [==============================] - 0s 5ms/step - loss: 0.7699 - acc: 0.6940 - val_loss: 0.8426 - val_acc: 0.6444\n",
            "Epoch 33/100\n",
            "34/34 [==============================] - 0s 5ms/step - loss: 0.7429 - acc: 0.7034 - val_loss: 0.8487 - val_acc: 0.6667\n",
            "Epoch 34/100\n",
            "34/34 [==============================] - 0s 5ms/step - loss: 0.7336 - acc: 0.7127 - val_loss: 0.8283 - val_acc: 0.7037\n",
            "Epoch 35/100\n",
            "34/34 [==============================] - 0s 5ms/step - loss: 0.7142 - acc: 0.7313 - val_loss: 0.8250 - val_acc: 0.6889\n",
            "Epoch 36/100\n",
            "34/34 [==============================] - 0s 5ms/step - loss: 0.6964 - acc: 0.7295 - val_loss: 0.8255 - val_acc: 0.7111\n",
            "Epoch 37/100\n",
            "34/34 [==============================] - 0s 5ms/step - loss: 0.6797 - acc: 0.7407 - val_loss: 0.8245 - val_acc: 0.6667\n",
            "Epoch 38/100\n",
            "34/34 [==============================] - 0s 5ms/step - loss: 0.6773 - acc: 0.7332 - val_loss: 0.8103 - val_acc: 0.7037\n",
            "Epoch 39/100\n",
            "34/34 [==============================] - 0s 5ms/step - loss: 0.6600 - acc: 0.7332 - val_loss: 0.8158 - val_acc: 0.6667\n",
            "Epoch 40/100\n",
            "34/34 [==============================] - 0s 5ms/step - loss: 0.6484 - acc: 0.7444 - val_loss: 0.8047 - val_acc: 0.6667\n",
            "Epoch 41/100\n",
            "34/34 [==============================] - 0s 5ms/step - loss: 0.6441 - acc: 0.7668 - val_loss: 0.7972 - val_acc: 0.6963\n",
            "Epoch 42/100\n",
            "34/34 [==============================] - 0s 5ms/step - loss: 0.6221 - acc: 0.7537 - val_loss: 0.7978 - val_acc: 0.7037\n",
            "Epoch 43/100\n",
            "34/34 [==============================] - 0s 5ms/step - loss: 0.6274 - acc: 0.7519 - val_loss: 0.7938 - val_acc: 0.7259\n",
            "Epoch 44/100\n",
            "34/34 [==============================] - 0s 5ms/step - loss: 0.6136 - acc: 0.7425 - val_loss: 0.7928 - val_acc: 0.7111\n",
            "Epoch 45/100\n",
            "34/34 [==============================] - 0s 5ms/step - loss: 0.6087 - acc: 0.7463 - val_loss: 0.8170 - val_acc: 0.6815\n",
            "Epoch 46/100\n",
            "34/34 [==============================] - 0s 5ms/step - loss: 0.6059 - acc: 0.7575 - val_loss: 0.8104 - val_acc: 0.6815\n",
            "Epoch 47/100\n",
            "34/34 [==============================] - 0s 5ms/step - loss: 0.5937 - acc: 0.7761 - val_loss: 0.8070 - val_acc: 0.6815\n",
            "Epoch 48/100\n",
            "34/34 [==============================] - 0s 5ms/step - loss: 0.5885 - acc: 0.7593 - val_loss: 0.7930 - val_acc: 0.7037\n",
            "Epoch 49/100\n",
            "34/34 [==============================] - 0s 5ms/step - loss: 0.5761 - acc: 0.7743 - val_loss: 0.7944 - val_acc: 0.6889\n",
            "Epoch 50/100\n",
            "34/34 [==============================] - 0s 5ms/step - loss: 0.5733 - acc: 0.7724 - val_loss: 0.7987 - val_acc: 0.6815\n",
            "Epoch 51/100\n",
            "34/34 [==============================] - 0s 5ms/step - loss: 0.5663 - acc: 0.7799 - val_loss: 0.7949 - val_acc: 0.7185\n",
            "Epoch 52/100\n",
            "34/34 [==============================] - 0s 5ms/step - loss: 0.5664 - acc: 0.7780 - val_loss: 0.7934 - val_acc: 0.7185\n",
            "Epoch 53/100\n",
            "34/34 [==============================] - 0s 10ms/step - loss: 0.5569 - acc: 0.7892 - val_loss: 0.8031 - val_acc: 0.7111\n",
            "Epoch 54/100\n",
            "34/34 [==============================] - 0s 5ms/step - loss: 0.5512 - acc: 0.7854 - val_loss: 0.8000 - val_acc: 0.7185\n",
            "Epoch 55/100\n",
            "34/34 [==============================] - 0s 5ms/step - loss: 0.5529 - acc: 0.7780 - val_loss: 0.7983 - val_acc: 0.7111\n",
            "Epoch 56/100\n",
            "34/34 [==============================] - 0s 5ms/step - loss: 0.5403 - acc: 0.7817 - val_loss: 0.8303 - val_acc: 0.6815\n",
            "Epoch 57/100\n",
            "34/34 [==============================] - 0s 5ms/step - loss: 0.5463 - acc: 0.7799 - val_loss: 0.8060 - val_acc: 0.7185\n",
            "Epoch 58/100\n",
            "34/34 [==============================] - 0s 5ms/step - loss: 0.5598 - acc: 0.7836 - val_loss: 0.8369 - val_acc: 0.6889\n",
            "Epoch 59/100\n",
            "34/34 [==============================] - 0s 5ms/step - loss: 0.5418 - acc: 0.7668 - val_loss: 0.8041 - val_acc: 0.7111\n",
            "Epoch 60/100\n",
            "34/34 [==============================] - 0s 5ms/step - loss: 0.5336 - acc: 0.7892 - val_loss: 0.8045 - val_acc: 0.7111\n",
            "Epoch 61/100\n",
            "34/34 [==============================] - 0s 5ms/step - loss: 0.5305 - acc: 0.7649 - val_loss: 0.8102 - val_acc: 0.7259\n",
            "Epoch 62/100\n",
            "34/34 [==============================] - 0s 12ms/step - loss: 0.5259 - acc: 0.7836 - val_loss: 0.8059 - val_acc: 0.7185\n",
            "Epoch 63/100\n",
            "34/34 [==============================] - 0s 5ms/step - loss: 0.5201 - acc: 0.7929 - val_loss: 0.8162 - val_acc: 0.7037\n"
          ]
        }
      ]
    },
    {
      "cell_type": "markdown",
      "source": [
        "## Visualizations"
      ],
      "metadata": {
        "id": "iqcdKBVdW6Y0"
      }
    },
    {
      "cell_type": "markdown",
      "source": [
        "Dengan menggunakan seaborn, diagram batang menunjukkan jumlah data untuk setiap sentimen. Diagram lingkaran menunjukkan persentase distribusi sentimen dalam dataset klasifikasi sentimen. Visualisasi memberikan gambaran visual tentang distribusi sentimen dalam dataset."
      ],
      "metadata": {
        "id": "x_UTrj7JRdrH"
      }
    },
    {
      "cell_type": "code",
      "source": [
        "fig, axes = plt.subplots(nrows=2, ncols=1, figsize=(6, 6))\n",
        "\n",
        "ax = sns.countplot(x='sentimen', data=data, palette=\"pastel\")\n",
        "for rect in ax.patches:\n",
        "    ax.text (rect.get_x() + rect.get_width()  / 2,rect.get_height()+ 3.25,rect.get_height(),horizontalalignment='center', fontsize = 12)\n",
        "axes[1].set_title('Sentiment Classifier')\n",
        "axes[1].set_ylim(200)\n",
        "\n",
        "# hitung jumlah sentimen\n",
        "sentiment_counts = data['sentimen'].value_counts()\n",
        "\n",
        "# plot diagram lingkaran (pie chart)\n",
        "axes[0].pie(sentiment_counts.values, labels=sentiment_counts.index, autopct='%1.1f%%')\n",
        "axes[0].set_title('Sentiment Classifier')\n",
        "\n",
        "plt.tight_layout()\n",
        "plt.show()"
      ],
      "metadata": {
        "colab": {
          "base_uri": "https://localhost:8080/",
          "height": 607
        },
        "id": "F7yaph9UGTJa",
        "outputId": "ce5bc4a7-5a02-4ba3-808e-d47822b9ed19"
      },
      "execution_count": null,
      "outputs": [
        {
          "output_type": "display_data",
          "data": {
            "text/plain": [
              "<Figure size 600x600 with 2 Axes>"
            ],
            "image/png": "[encoded data removed]"
          },
          "metadata": {}
        }
      ]
    },
    {
      "cell_type": "markdown",
      "source": [
        "Grafik di sebelah kiri menunjukkan kurva kerugian pelatihan dan validasi sepanjang epoch. Grafik di sebelah kanan menunjukkan kurva akurasi pelatihan dan validasi selama pelatihan model. Visualisasi ini membantu dalam evaluasi kinerja model."
      ],
      "metadata": {
        "id": "9OKfcS9DSg7G"
      }
    },
    {
      "cell_type": "code",
      "source": [
        "fig, axes = plt.subplots(nrows=1, ncols=2, figsize=(10, 4))\n",
        "\n",
        "axes[0].plot(history.history['loss'], label='Training Loss')\n",
        "axes[0].plot(history.history['val_loss'], label='Validation Loss')\n",
        "axes[0].legend()\n",
        "axes[0].set_title('Training dan Validation Loss')\n",
        "\n",
        "axes[1].plot(history.history['acc'], label='Training Accuracy')\n",
        "axes[1].plot(history.history['val_acc'], label='Validation Accuracy')\n",
        "axes[1].legend()\n",
        "axes[1].set_title('Training dan Validation Accuracy')\n",
        "\n",
        "plt.tight_layout()\n",
        "plt.show()"
      ],
      "metadata": {
        "id": "oUZZRVnLXCq4",
        "colab": {
          "base_uri": "https://localhost:8080/",
          "height": 407
        },
        "outputId": "2337600d-2471-4283-a5f3-7e43ecef8823"
      },
      "execution_count": null,
      "outputs": [
        {
          "output_type": "display_data",
          "data": {
            "text/plain": [
              "<Figure size 1000x400 with 2 Axes>"
            ],
            "image/png": "[encoded data removed]"
          },
          "metadata": {}
        }
      ]
    },
    {
      "cell_type": "markdown",
      "source": [
        "Matriks konfusi digunakan untuk mengevaluasi performa model klasifikasi sentimen. Heatmap menunjukkan sejauh mana prediksi model cocok dengan label sebenarnya untuk setiap kategori sentimen (negatif, netral, positif)."
      ],
      "metadata": {
        "id": "H0ThylTSSto8"
      }
    },
    {
      "cell_type": "code",
      "source": [
        "labels = ['negative', 'neutral', 'positive']\n",
        "preds = [np.argmax(i) for i in model.predict(x_val_pad)]\n",
        "\n",
        "cm  = confusion_matrix(y_val.values, preds)\n",
        "plt.figure()\n",
        "sns.heatmap(cm, annot=True, fmt=\"d\", cmap=\"Blues\", cbar=False)\n",
        "plt.xticks(range(3), labels, fontsize=9)\n",
        "plt.yticks(range(3), labels, fontsize=9)\n",
        "plt.show()"
      ],
      "metadata": {
        "colab": {
          "base_uri": "https://localhost:8080/",
          "height": 473
        },
        "id": "7HdqIgb_mB7N",
        "outputId": "244cab6b-1ce3-4592-ff61-a15c3f6c0c17"
      },
      "execution_count": null,
      "outputs": [
        {
          "output_type": "stream",
          "name": "stdout",
          "text": [
            "5/5 [==============================] - 0s 3ms/step\n"
          ]
        },
        {
          "output_type": "display_data",
          "data": {
            "text/plain": [
              "<Figure size 640x480 with 1 Axes>"
            ],
            "image/png": "[encoded data removed]"
          },
          "metadata": {}
        }
      ]
    },
    {
      "cell_type": "markdown",
      "source": [
        "Menghitung dan mencetak nilai Recall, Precision, dan Accuracy untuk evaluasi performa model klasifikasi sentimen pada data validasi menggunakan metode micro-averaging."
      ],
      "metadata": {
        "id": "fWzZg1S8Sz1L"
      }
    },
    {
      "cell_type": "code",
      "source": [
        "print(\"Recall : {}\".format(recall_score(y_val.values, preds, average='micro')))\n",
        "print(\"Precision : {}\".format(precision_score(y_val.values, preds, average='micro')))\n",
        "print(\"Accuracy : {}\".format(accuracy_score(y_val.values, preds)))"
      ],
      "metadata": {
        "colab": {
          "base_uri": "https://localhost:8080/"
        },
        "id": "oFHfWUHvo3fr",
        "outputId": "f1c5fb65-17b0-456a-96e0-cddbcdd6a570"
      },
      "execution_count": null,
      "outputs": [
        {
          "output_type": "stream",
          "name": "stdout",
          "text": [
            "Recall : 0.725925925925926\n",
            "Precision : 0.725925925925926\n",
            "Accuracy : 0.725925925925926\n"
          ]
        }
      ]
    },
    {
      "cell_type": "markdown",
      "source": [
        "## Pre-Deployment"
      ],
      "metadata": {
        "id": "hQVvG7pYXHEP"
      }
    },
    {
      "cell_type": "code",
      "source": [
        "with open('word-dict.json', 'w') as file:\n",
        "  json.dump(tokenizer.word_index, file)"
      ],
      "metadata": {
        "id": "YXbBwsRDXLNv"
      },
      "execution_count": null,
      "outputs": []
    },
    {
      "cell_type": "markdown",
      "source": [
        "Kode ini digunakan untuk menyimpan kamus indeks kata-kata ke dalam sebuah file JSON bernama word-dict. Kamus ini digunakan untuk melakukan pemrosesan teks pada data yang baru."
      ],
      "metadata": {
        "id": "foNxjfVSd-fa"
      }
    },
    {
      "cell_type": "code",
      "source": [
        "# Specifies the model directory\n",
        "model_dir = '/tmp/saved_model'\n",
        "try:\n",
        "  os.mkdir(model_dir)\n",
        "except OSError as e:\n",
        "  print(\"\\nUnable create directory. {}\".format(e))"
      ],
      "metadata": {
        "id": "QLEYAB1EzyXc"
      },
      "execution_count": null,
      "outputs": []
    },
    {
      "cell_type": "markdown",
      "source": [
        "kemudian kita akan membuat sebuah folder yang bernama saved_model."
      ],
      "metadata": {
        "id": "Bvi2tCDhfbwT"
      }
    },
    {
      "cell_type": "code",
      "source": [
        "# Save model with saved_model format\n",
        "model_version = 1\n",
        "save_path = os.path.join(model_dir, str(model_version))\n",
        "\n",
        "# Gunakan save_model untuk menyimpan model\n",
        "tf.keras.models.save_model(model, save_path, save_format=\"tf\")"
      ],
      "metadata": {
        "id": "ZImYexYpz5xS"
      },
      "execution_count": null,
      "outputs": []
    },
    {
      "cell_type": "markdown",
      "source": [
        "Lalu, kode diatas digunakan untuk menyimpan model dalam folder saved_model."
      ],
      "metadata": {
        "id": "NqGwWCdBfjBU"
      }
    },
    {
      "cell_type": "code",
      "source": [
        "!zip -r /tmp/saved_model.zip /tmp/saved_model"
      ],
      "metadata": {
        "id": "f2kHieZt0DCn"
      },
      "execution_count": null,
      "outputs": []
    },
    {
      "cell_type": "markdown",
      "source": [
        "Selanjutnya folder saved_model tersebut dijadikan zip."
      ],
      "metadata": {
        "id": "BXp0wILYfyH_"
      }
    },
    {
      "cell_type": "code",
      "source": [
        "from google.colab import files\n",
        "# Download model\n",
        "files.download('/tmp/saved_model.zip')\n",
        "\n",
        "print('`saved_model.zip` has been downloaded')"
      ],
      "metadata": {
        "colab": {
          "base_uri": "https://localhost:8080/",
          "height": 52
        },
        "id": "pOEFmfAs0MQl",
        "outputId": "504da6a8-1ce8-487f-8550-29c6bafcadc0"
      },
      "execution_count": null,
      "outputs": [
        {
          "output_type": "display_data",
          "data": {
            "text/plain": [
              "<IPython.core.display.Javascript object>"
            ],
            "application/javascript": [
              "\n",
              "    async function download(id, filename, size) {\n",
              "      if (!google.colab.kernel.accessAllowed) {\n",
              "        return;\n",
              "      }\n",
              "      const div = document.createElement('div');\n",
              "      const label = document.createElement('label');\n",
              "      label.textContent = `Downloading \"${filename}\": `;\n",
              "      div.appendChild(label);\n",
              "      const progress = document.createElement('progress');\n",
              "      progress.max = size;\n",
              "      div.appendChild(progress);\n",
              "      document.body.appendChild(div);\n",
              "\n",
              "      const buffers = [];\n",
              "      let downloaded = 0;\n",
              "\n",
              "      const channel = await google.colab.kernel.comms.open(id);\n",
              "      // Send a message to notify the kernel that we're ready.\n",
              "      channel.send({})\n",
              "\n",
              "      for await (const message of channel.messages) {\n",
              "        // Send a message to notify the kernel that we're ready.\n",
              "        channel.send({})\n",
              "        if (message.buffers) {\n",
              "          for (const buffer of message.buffers) {\n",
              "            buffers.push(buffer);\n",
              "            downloaded += buffer.byteLength;\n",
              "            progress.value = downloaded;\n",
              "          }\n",
              "        }\n",
              "      }\n",
              "      const blob = new Blob(buffers, {type: 'application/binary'});\n",
              "      const a = document.createElement('a');\n",
              "      a.href = window.URL.createObjectURL(blob);\n",
              "      a.download = filename;\n",
              "      div.appendChild(a);\n",
              "      a.click();\n",
              "      div.remove();\n",
              "    }\n",
              "  "
            ]
          },
          "metadata": {}
        },
        {
          "output_type": "display_data",
          "data": {
            "text/plain": [
              "<IPython.core.display.Javascript object>"
            ],
            "application/javascript": [
              "download(\"download_5dead7fe-08dd-42d9-96e3-881fdda91626\", \"saved_model.zip\", 2097560)"
            ]
          },
          "metadata": {}
        },
        {
          "output_type": "stream",
          "name": "stdout",
          "text": [
            "`saved_model.zip` has been downloaded\n"
          ]
        }
      ]
    },
    {
      "cell_type": "markdown",
      "source": [
        "dengan kode diatas folder saved_model.zip akan di download"
      ],
      "metadata": {
        "id": "MYBycvgXf5Nh"
      }
    },
    {
      "cell_type": "markdown",
      "source": [
        "## Test Prediction"
      ],
      "metadata": {
        "id": "jRFLiZVwXDJd"
      }
    },
    {
      "cell_type": "markdown",
      "source": [
        "### in program"
      ],
      "metadata": {
        "id": "JzqxGL9uPAQ0"
      }
    },
    {
      "cell_type": "code",
      "source": [
        "def test_model(text):\n",
        "\n",
        "  labels = ['negative', 'neutral', 'positive']\n",
        "\n",
        "  test_pad = pad_sequences(\n",
        "      tokenizer.texts_to_sequences(text),\n",
        "      padding=padding_type,\n",
        "      maxlen=maxlen\n",
        "  )\n",
        "\n",
        "  test_prediction = model.predict(test_pad)\n",
        "  list_test = labels[np.argmax(test_prediction)]\n",
        "\n",
        "  print(\n",
        "      \"[text] : {}\\n[topic] : {}\".format(text[0], list_test)\n",
        "  )"
      ],
      "metadata": {
        "id": "2uKI57wVXGug"
      },
      "execution_count": null,
      "outputs": []
    },
    {
      "cell_type": "code",
      "source": [
        "test_model(['tempatnya nyaman, abangnya ramah, makanannya enak, bakal langganan terus sih'])\n",
        "test_model(['rasanya biasa aja'])\n",
        "test_model(['abangnya jorok, makanannya tidak higenis, jijik'])"
      ],
      "metadata": {
        "colab": {
          "base_uri": "https://localhost:8080/"
        },
        "id": "13ZEjvaQj52D",
        "outputId": "6dbc3c47-d10b-41c9-f381-e822bca607d8"
      },
      "execution_count": null,
      "outputs": [
        {
          "output_type": "stream",
          "name": "stdout",
          "text": [
            "1/1 [==============================] - 0s 40ms/step\n",
            "[text] : tempatnya nyaman, abangnya ramah, makanannya enak, bakal langganan terus sih\n",
            "[topic] : positive\n",
            "1/1 [==============================] - 0s 16ms/step\n",
            "[text] : rasanya biasa aja\n",
            "[topic] : neutral\n",
            "1/1 [==============================] - 0s 15ms/step\n",
            "[text] : abangnya jorok, makanannya tidak higenis, jijik\n",
            "[topic] : negative\n"
          ]
        }
      ]
    },
    {
      "cell_type": "markdown",
      "source": [
        "Pada bagian ini kami melakukan test terhadap model yang telah kami buat, dapat dilihat bahwa model yang kami buat telah berhasil memberikan prediksi yang sesuai terhadap ulasan yang telah kami berikan."
      ],
      "metadata": {
        "id": "mwVQUvhigLjD"
      }
    },
    {
      "cell_type": "markdown",
      "source": [
        "### in TFServing with CloudRun (GCP)"
      ],
      "metadata": {
        "id": "v8oMWyVTPWhe"
      }
    },
    {
      "cell_type": "code",
      "source": [
        "import json\n",
        "import string\n",
        "import tensorflow as tf\n",
        "import numpy as np\n",
        "import requests"
      ],
      "metadata": {
        "id": "CgzwASg7PeWD"
      },
      "execution_count": null,
      "outputs": []
    },
    {
      "cell_type": "code",
      "source": [
        "with open(\"word-dict.json\") as file:\n",
        "    global word_dict\n",
        "    word_dict = json.load(file)"
      ],
      "metadata": {
        "id": "H-38ylZ38VVJ"
      },
      "execution_count": null,
      "outputs": []
    },
    {
      "cell_type": "markdown",
      "source": [
        "Kode diatas digunakan untuk mengambil file json dan akan disimpan dalam variabel word_dict. File word_dict disini akan menjadi sebuah kamus di mana setiap kata memiliki nilai tertentu atau metrik yang dapat digunakan untuk analisis sentimen."
      ],
      "metadata": {
        "id": "TVidw1aAJLGc"
      }
    },
    {
      "cell_type": "code",
      "source": [
        "def text_preprocessing(text, dict_word, oov_token=\"<OOV>\", max_length=73):\n",
        "    words = text.translate(str.maketrans('', '', string.punctuation)).lower().split(\" \")\n",
        "    result = [dict_word.get(word, dict_word[oov_token]) for word in words]\n",
        "    padding = [0 for _ in range(max_length - len(result))]\n",
        "    return [result + padding]"
      ],
      "metadata": {
        "id": "zdsh-zNV8XhH"
      },
      "execution_count": null,
      "outputs": []
    },
    {
      "cell_type": "code",
      "source": [
        "def test_predict_tfserving(text, endpoint):\n",
        "    text_processed = text_preprocessing(text, dict_word=word_dict)\n",
        "\n",
        "    json_data = json.dumps({\"instances\": text_processed})\n",
        "\n",
        "    response = requests.post(endpoint, data=json_data)\n",
        "    prediction = response.json()[\"predictions\"][0]\n",
        "    print(f\"Prediction from TFServing: {prediction}\")\n",
        "\n",
        "    list_class_name = [\"negative\", \"neutral\", \"positive\"]\n",
        "\n",
        "    index_class_predicted = np.argmax(prediction)\n",
        "    print(f\"Index class predicted: {index_class_predicted}\")\n",
        "    print(f\"Class name predicted: {list_class_name[index_class_predicted]}\")"
      ],
      "metadata": {
        "id": "LzBUK5rK8Y2S"
      },
      "execution_count": null,
      "outputs": []
    },
    {
      "cell_type": "markdown",
      "source": [
        "Pada bagian berisi fungsi yang dapat digunakan untuk menguji atau memprediksi kelas sentimen dari suatu teks menggunakan model yang telah di-deploy menggunakan TensorFlow Serving (TFServing)"
      ],
      "metadata": {
        "id": "keqchA3jhFc0"
      }
    },
    {
      "cell_type": "code",
      "source": [
        "test_predict_tfserving(\n",
        "    text=\"lumayan sih rasanya, cuma isinya dikit\",\n",
        "    endpoint=\"https://kulinerin-app-q6za24kwsq-uc.a.run.app/v1/models/kulinerin-app:predict\"\n",
        ")"
      ],
      "metadata": {
        "colab": {
          "base_uri": "https://localhost:8080/"
        },
        "id": "de7_PhwP8bVJ",
        "outputId": "77cc0a11-edfc-4427-f727-8cc977fbe71f"
      },
      "execution_count": null,
      "outputs": [
        {
          "output_type": "stream",
          "name": "stdout",
          "text": [
            "Prediction from TFServing: [0.305654734, 0.577717841, 0.11662741]\n",
            "Index class predicted: 1\n",
            "Class name predicted: neutral\n"
          ]
        }
      ]
    },
    {
      "cell_type": "markdown",
      "source": [
        "Selanjutnya kami mencoba fungsi test_predict_tfserving dengan memberikan contoh ulasan yang ingin diprediksi dan memberikan endpoint url yang telah kami dapatkan ketika mendeploy menggunakan Google Cloud Run."
      ],
      "metadata": {
        "id": "6yc_6yJehRcp"
      }
    }
  ]
}